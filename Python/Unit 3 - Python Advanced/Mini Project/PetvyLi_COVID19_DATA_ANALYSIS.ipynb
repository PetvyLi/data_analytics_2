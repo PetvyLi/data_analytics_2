{
  "nbformat": 4,
  "nbformat_minor": 0,
  "metadata": {
    "colab": {
      "name": "PetvyLi_COVID19_DATA_ANALYSIS.ipynb",
      "provenance": [],
      "collapsed_sections": []
    },
    "kernelspec": {
      "name": "python3",
      "display_name": "Python 3"
    }
  },
  "cells": [
    {
      "cell_type": "markdown",
      "metadata": {
        "id": "9jvXpX2bbIFF"
      },
      "source": [
        "# COVID 19 Data Analysis"
      ]
    },
    {
      "cell_type": "markdown",
      "metadata": {
        "id": "RSvGZmxBa_Gk"
      },
      "source": [
        "**Description:** This script will read the latest data from the New York Times' county-level COVID-19 database at https://github.com/nytimes/covid-19-data/blob/master/us-counties.csv, filter the data for a chosen county in a chosen state, calculate the daily count of new cases and new deaths, print the most recent 28 days' worth of data for the selected county, and save the county's data for all dates to a comma-separated value (.csv) file on your computer. The printed data can be copied and pasted directly into a spreadsheet for further analysis and visualization.\n",
        "\n",
        "**Note:** For information about the data, see https://github.com/nytimes/covid-19-data.\n",
        "\n",
        "**Note:** After you have run the script one time in a given Anaconda environment, you may reduce the script's execution time by adding a `#` in front of `pip install pandas`. For example, `#pip install pandas` instead of `pip install pandas`. The `#` will tell Python to skip the code without running it."
      ]
    },
    {
      "cell_type": "markdown",
      "metadata": {
        "id": "ji_HknaobZJh"
      },
      "source": [
        "# Task 1 : Environment Set up"
      ]
    },
    {
      "cell_type": "markdown",
      "metadata": {
        "id": "q2y0bY0XbhNZ"
      },
      "source": [
        "Import all required libraries that are needed for data analysis"
      ]
    },
    {
      "cell_type": "code",
      "metadata": {
        "id": "k2f9bX3aiTDP"
      },
      "source": [
        "#pip install pandas - console command in python, # for linux or mac users for console command in actual Python \n",
        "import pandas as pd\n",
        "import numpy as np\n",
        "import matplotlib.pyplot as plt\n",
        "from matplotlib import style"
      ],
      "execution_count": 3,
      "outputs": []
    },
    {
      "cell_type": "markdown",
      "metadata": {
        "id": "vgt8s61dbueM"
      },
      "source": [
        "# Task 2 :  Data Collection"
      ]
    },
    {
      "cell_type": "markdown",
      "metadata": {
        "id": "CEc5pqrkbxcX"
      },
      "source": [
        "Use nytimes github repository as a data source to collect the covid 19 data in real time and ingest it into colab notebook for data anlysis purpose"
      ]
    },
    {
      "cell_type": "code",
      "metadata": {
        "id": "vgw9nO9Hm_SB"
      },
      "source": [
        "df = pd.read_csv('https://raw.githubusercontent.com/nytimes/covid-19-data/master/us-states.csv')"
      ],
      "execution_count": 4,
      "outputs": []
    },
    {
      "cell_type": "code",
      "metadata": {
        "id": "FEG9n2sI0Yxu",
        "colab": {
          "base_uri": "https://localhost:8080/",
          "height": 419
        },
        "outputId": "2f72b7e7-a352-4d67-94a9-2c3231a1c9d8"
      },
      "source": [
        "df.head(-1)"
      ],
      "execution_count": 26,
      "outputs": [
        {
          "output_type": "execute_result",
          "data": {
            "text/html": [
              "<div>\n",
              "<style scoped>\n",
              "    .dataframe tbody tr th:only-of-type {\n",
              "        vertical-align: middle;\n",
              "    }\n",
              "\n",
              "    .dataframe tbody tr th {\n",
              "        vertical-align: top;\n",
              "    }\n",
              "\n",
              "    .dataframe thead th {\n",
              "        text-align: right;\n",
              "    }\n",
              "</style>\n",
              "<table border=\"1\" class=\"dataframe\">\n",
              "  <thead>\n",
              "    <tr style=\"text-align: right;\">\n",
              "      <th></th>\n",
              "      <th>date</th>\n",
              "      <th>state</th>\n",
              "      <th>fips</th>\n",
              "      <th>cases</th>\n",
              "      <th>deaths</th>\n",
              "    </tr>\n",
              "  </thead>\n",
              "  <tbody>\n",
              "    <tr>\n",
              "      <th>0</th>\n",
              "      <td>2020-01-21</td>\n",
              "      <td>Washington</td>\n",
              "      <td>53</td>\n",
              "      <td>1</td>\n",
              "      <td>0</td>\n",
              "    </tr>\n",
              "    <tr>\n",
              "      <th>1</th>\n",
              "      <td>2020-01-22</td>\n",
              "      <td>Washington</td>\n",
              "      <td>53</td>\n",
              "      <td>1</td>\n",
              "      <td>0</td>\n",
              "    </tr>\n",
              "    <tr>\n",
              "      <th>2</th>\n",
              "      <td>2020-01-23</td>\n",
              "      <td>Washington</td>\n",
              "      <td>53</td>\n",
              "      <td>1</td>\n",
              "      <td>0</td>\n",
              "    </tr>\n",
              "    <tr>\n",
              "      <th>3</th>\n",
              "      <td>2020-01-24</td>\n",
              "      <td>Illinois</td>\n",
              "      <td>17</td>\n",
              "      <td>1</td>\n",
              "      <td>0</td>\n",
              "    </tr>\n",
              "    <tr>\n",
              "      <th>4</th>\n",
              "      <td>2020-01-24</td>\n",
              "      <td>Washington</td>\n",
              "      <td>53</td>\n",
              "      <td>1</td>\n",
              "      <td>0</td>\n",
              "    </tr>\n",
              "    <tr>\n",
              "      <th>...</th>\n",
              "      <td>...</td>\n",
              "      <td>...</td>\n",
              "      <td>...</td>\n",
              "      <td>...</td>\n",
              "      <td>...</td>\n",
              "    </tr>\n",
              "    <tr>\n",
              "      <th>28608</th>\n",
              "      <td>2021-08-04</td>\n",
              "      <td>Virgin Islands</td>\n",
              "      <td>78</td>\n",
              "      <td>4691</td>\n",
              "      <td>39</td>\n",
              "    </tr>\n",
              "    <tr>\n",
              "      <th>28609</th>\n",
              "      <td>2021-08-04</td>\n",
              "      <td>Virginia</td>\n",
              "      <td>51</td>\n",
              "      <td>701059</td>\n",
              "      <td>11541</td>\n",
              "    </tr>\n",
              "    <tr>\n",
              "      <th>28610</th>\n",
              "      <td>2021-08-04</td>\n",
              "      <td>Washington</td>\n",
              "      <td>53</td>\n",
              "      <td>484702</td>\n",
              "      <td>6185</td>\n",
              "    </tr>\n",
              "    <tr>\n",
              "      <th>28611</th>\n",
              "      <td>2021-08-04</td>\n",
              "      <td>West Virginia</td>\n",
              "      <td>54</td>\n",
              "      <td>168330</td>\n",
              "      <td>2956</td>\n",
              "    </tr>\n",
              "    <tr>\n",
              "      <th>28612</th>\n",
              "      <td>2021-08-04</td>\n",
              "      <td>Wisconsin</td>\n",
              "      <td>55</td>\n",
              "      <td>692401</td>\n",
              "      <td>8302</td>\n",
              "    </tr>\n",
              "  </tbody>\n",
              "</table>\n",
              "<p>28613 rows × 5 columns</p>\n",
              "</div>"
            ],
            "text/plain": [
              "             date           state  fips   cases  deaths\n",
              "0      2020-01-21      Washington    53       1       0\n",
              "1      2020-01-22      Washington    53       1       0\n",
              "2      2020-01-23      Washington    53       1       0\n",
              "3      2020-01-24        Illinois    17       1       0\n",
              "4      2020-01-24      Washington    53       1       0\n",
              "...           ...             ...   ...     ...     ...\n",
              "28608  2021-08-04  Virgin Islands    78    4691      39\n",
              "28609  2021-08-04        Virginia    51  701059   11541\n",
              "28610  2021-08-04      Washington    53  484702    6185\n",
              "28611  2021-08-04   West Virginia    54  168330    2956\n",
              "28612  2021-08-04       Wisconsin    55  692401    8302\n",
              "\n",
              "[28613 rows x 5 columns]"
            ]
          },
          "metadata": {
            "tags": []
          },
          "execution_count": 26
        }
      ]
    },
    {
      "cell_type": "code",
      "metadata": {
        "id": "ap0owuu30bLe",
        "colab": {
          "base_uri": "https://localhost:8080/"
        },
        "outputId": "c8092da5-38c5-4e65-8aed-0221739f57fe"
      },
      "source": [
        "df.shape\n",
        "#28614 is row in the data \n",
        "#5 is column "
      ],
      "execution_count": 6,
      "outputs": [
        {
          "output_type": "execute_result",
          "data": {
            "text/plain": [
              "(28614, 5)"
            ]
          },
          "metadata": {
            "tags": []
          },
          "execution_count": 6
        }
      ]
    },
    {
      "cell_type": "code",
      "metadata": {
        "id": "zZdaTiUk0fqE",
        "colab": {
          "base_uri": "https://localhost:8080/"
        },
        "outputId": "21da6b7c-d3e6-4e32-bc92-183979fd4350"
      },
      "source": [
        "df.columns"
      ],
      "execution_count": 7,
      "outputs": [
        {
          "output_type": "execute_result",
          "data": {
            "text/plain": [
              "Index(['date', 'state', 'fips', 'cases', 'deaths'], dtype='object')"
            ]
          },
          "metadata": {
            "tags": []
          },
          "execution_count": 7
        }
      ]
    },
    {
      "cell_type": "markdown",
      "metadata": {
        "id": "dXToiyPccf4h"
      },
      "source": [
        "# Task 3 : Data Wrangling and EDA (Exploratory Data Analysis)"
      ]
    },
    {
      "cell_type": "markdown",
      "metadata": {
        "id": "XrywUhma1LD6"
      },
      "source": [
        "Analyzing New York state data for Covid 19"
      ]
    },
    {
      "cell_type": "code",
      "metadata": {
        "id": "-IXvRlig1Qjq"
      },
      "source": [
        "ny_df = df[df['state']=='New York']"
      ],
      "execution_count": 8,
      "outputs": []
    },
    {
      "cell_type": "code",
      "metadata": {
        "id": "vAPsO4Yq1yAj",
        "colab": {
          "base_uri": "https://localhost:8080/",
          "height": 204
        },
        "outputId": "86347ff9-5cab-45bf-fead-deeeb2b7efe4"
      },
      "source": [
        "ny_df.head()"
      ],
      "execution_count": 9,
      "outputs": [
        {
          "output_type": "execute_result",
          "data": {
            "text/html": [
              "<div>\n",
              "<style scoped>\n",
              "    .dataframe tbody tr th:only-of-type {\n",
              "        vertical-align: middle;\n",
              "    }\n",
              "\n",
              "    .dataframe tbody tr th {\n",
              "        vertical-align: top;\n",
              "    }\n",
              "\n",
              "    .dataframe thead th {\n",
              "        text-align: right;\n",
              "    }\n",
              "</style>\n",
              "<table border=\"1\" class=\"dataframe\">\n",
              "  <thead>\n",
              "    <tr style=\"text-align: right;\">\n",
              "      <th></th>\n",
              "      <th>date</th>\n",
              "      <th>state</th>\n",
              "      <th>fips</th>\n",
              "      <th>cases</th>\n",
              "      <th>deaths</th>\n",
              "    </tr>\n",
              "  </thead>\n",
              "  <tbody>\n",
              "    <tr>\n",
              "      <th>246</th>\n",
              "      <td>2020-03-01</td>\n",
              "      <td>New York</td>\n",
              "      <td>36</td>\n",
              "      <td>1</td>\n",
              "      <td>0</td>\n",
              "    </tr>\n",
              "    <tr>\n",
              "      <th>261</th>\n",
              "      <td>2020-03-02</td>\n",
              "      <td>New York</td>\n",
              "      <td>36</td>\n",
              "      <td>1</td>\n",
              "      <td>0</td>\n",
              "    </tr>\n",
              "    <tr>\n",
              "      <th>276</th>\n",
              "      <td>2020-03-03</td>\n",
              "      <td>New York</td>\n",
              "      <td>36</td>\n",
              "      <td>2</td>\n",
              "      <td>0</td>\n",
              "    </tr>\n",
              "    <tr>\n",
              "      <th>293</th>\n",
              "      <td>2020-03-04</td>\n",
              "      <td>New York</td>\n",
              "      <td>36</td>\n",
              "      <td>11</td>\n",
              "      <td>0</td>\n",
              "    </tr>\n",
              "    <tr>\n",
              "      <th>313</th>\n",
              "      <td>2020-03-05</td>\n",
              "      <td>New York</td>\n",
              "      <td>36</td>\n",
              "      <td>22</td>\n",
              "      <td>0</td>\n",
              "    </tr>\n",
              "  </tbody>\n",
              "</table>\n",
              "</div>"
            ],
            "text/plain": [
              "           date     state  fips  cases  deaths\n",
              "246  2020-03-01  New York    36      1       0\n",
              "261  2020-03-02  New York    36      1       0\n",
              "276  2020-03-03  New York    36      2       0\n",
              "293  2020-03-04  New York    36     11       0\n",
              "313  2020-03-05  New York    36     22       0"
            ]
          },
          "metadata": {
            "tags": []
          },
          "execution_count": 9
        }
      ]
    },
    {
      "cell_type": "code",
      "metadata": {
        "id": "XNuZqUlI1096",
        "colab": {
          "base_uri": "https://localhost:8080/"
        },
        "outputId": "1b077ab1-1190-4c77-c0cc-3559c9a9bf6b"
      },
      "source": [
        "ny_df.shape\n",
        "#522 rows of cases in NY "
      ],
      "execution_count": 10,
      "outputs": [
        {
          "output_type": "execute_result",
          "data": {
            "text/plain": [
              "(522, 5)"
            ]
          },
          "metadata": {
            "tags": []
          },
          "execution_count": 10
        }
      ]
    },
    {
      "cell_type": "code",
      "metadata": {
        "id": "z7sGUFdO2CAo",
        "colab": {
          "base_uri": "https://localhost:8080/",
          "height": 204
        },
        "outputId": "f9297f30-8407-4843-ad10-4f6764dda31b"
      },
      "source": [
        "ny_df.tail()"
      ],
      "execution_count": 11,
      "outputs": [
        {
          "output_type": "execute_result",
          "data": {
            "text/html": [
              "<div>\n",
              "<style scoped>\n",
              "    .dataframe tbody tr th:only-of-type {\n",
              "        vertical-align: middle;\n",
              "    }\n",
              "\n",
              "    .dataframe tbody tr th {\n",
              "        vertical-align: top;\n",
              "    }\n",
              "\n",
              "    .dataframe thead th {\n",
              "        text-align: right;\n",
              "    }\n",
              "</style>\n",
              "<table border=\"1\" class=\"dataframe\">\n",
              "  <thead>\n",
              "    <tr style=\"text-align: right;\">\n",
              "      <th></th>\n",
              "      <th>date</th>\n",
              "      <th>state</th>\n",
              "      <th>fips</th>\n",
              "      <th>cases</th>\n",
              "      <th>deaths</th>\n",
              "    </tr>\n",
              "  </thead>\n",
              "  <tbody>\n",
              "    <tr>\n",
              "      <th>28372</th>\n",
              "      <td>2021-07-31</td>\n",
              "      <td>New York</td>\n",
              "      <td>36</td>\n",
              "      <td>2148445</td>\n",
              "      <td>53266</td>\n",
              "    </tr>\n",
              "    <tr>\n",
              "      <th>28427</th>\n",
              "      <td>2021-08-01</td>\n",
              "      <td>New York</td>\n",
              "      <td>36</td>\n",
              "      <td>2151035</td>\n",
              "      <td>53274</td>\n",
              "    </tr>\n",
              "    <tr>\n",
              "      <th>28482</th>\n",
              "      <td>2021-08-02</td>\n",
              "      <td>New York</td>\n",
              "      <td>36</td>\n",
              "      <td>2153243</td>\n",
              "      <td>53281</td>\n",
              "    </tr>\n",
              "    <tr>\n",
              "      <th>28537</th>\n",
              "      <td>2021-08-03</td>\n",
              "      <td>New York</td>\n",
              "      <td>36</td>\n",
              "      <td>2156305</td>\n",
              "      <td>53294</td>\n",
              "    </tr>\n",
              "    <tr>\n",
              "      <th>28592</th>\n",
              "      <td>2021-08-04</td>\n",
              "      <td>New York</td>\n",
              "      <td>36</td>\n",
              "      <td>2159139</td>\n",
              "      <td>53301</td>\n",
              "    </tr>\n",
              "  </tbody>\n",
              "</table>\n",
              "</div>"
            ],
            "text/plain": [
              "             date     state  fips    cases  deaths\n",
              "28372  2021-07-31  New York    36  2148445   53266\n",
              "28427  2021-08-01  New York    36  2151035   53274\n",
              "28482  2021-08-02  New York    36  2153243   53281\n",
              "28537  2021-08-03  New York    36  2156305   53294\n",
              "28592  2021-08-04  New York    36  2159139   53301"
            ]
          },
          "metadata": {
            "tags": []
          },
          "execution_count": 11
        }
      ]
    },
    {
      "cell_type": "code",
      "metadata": {
        "id": "FQxfk_yn2KIW",
        "colab": {
          "base_uri": "https://localhost:8080/",
          "height": 204
        },
        "outputId": "16ee7b90-61de-44ab-efb9-d9c8415482a7"
      },
      "source": [
        "#first death in NY\n",
        "first_ny_death = ny_df[ny_df['deaths']>=1] #use exclamation point to start point from people dying ! means NOT !=0 means nt equal to 0, or put >0 \n",
        "first_ny_death.head()                       # 0 means dont count 0, count starting from 1 \n",
        "\n",
        "#head means to start from beginning "
      ],
      "execution_count": 33,
      "outputs": [
        {
          "output_type": "execute_result",
          "data": {
            "text/html": [
              "<div>\n",
              "<style scoped>\n",
              "    .dataframe tbody tr th:only-of-type {\n",
              "        vertical-align: middle;\n",
              "    }\n",
              "\n",
              "    .dataframe tbody tr th {\n",
              "        vertical-align: top;\n",
              "    }\n",
              "\n",
              "    .dataframe thead th {\n",
              "        text-align: right;\n",
              "    }\n",
              "</style>\n",
              "<table border=\"1\" class=\"dataframe\">\n",
              "  <thead>\n",
              "    <tr style=\"text-align: right;\">\n",
              "      <th></th>\n",
              "      <th>date</th>\n",
              "      <th>state</th>\n",
              "      <th>fips</th>\n",
              "      <th>cases</th>\n",
              "      <th>deaths</th>\n",
              "      <th>new_cases</th>\n",
              "    </tr>\n",
              "  </thead>\n",
              "  <tbody>\n",
              "    <tr>\n",
              "      <th>669</th>\n",
              "      <td>2020-03-14</td>\n",
              "      <td>New York</td>\n",
              "      <td>36</td>\n",
              "      <td>610</td>\n",
              "      <td>2</td>\n",
              "      <td>189</td>\n",
              "    </tr>\n",
              "    <tr>\n",
              "      <th>722</th>\n",
              "      <td>2020-03-15</td>\n",
              "      <td>New York</td>\n",
              "      <td>36</td>\n",
              "      <td>732</td>\n",
              "      <td>6</td>\n",
              "      <td>122</td>\n",
              "    </tr>\n",
              "    <tr>\n",
              "      <th>775</th>\n",
              "      <td>2020-03-16</td>\n",
              "      <td>New York</td>\n",
              "      <td>36</td>\n",
              "      <td>950</td>\n",
              "      <td>10</td>\n",
              "      <td>218</td>\n",
              "    </tr>\n",
              "    <tr>\n",
              "      <th>828</th>\n",
              "      <td>2020-03-17</td>\n",
              "      <td>New York</td>\n",
              "      <td>36</td>\n",
              "      <td>1375</td>\n",
              "      <td>18</td>\n",
              "      <td>425</td>\n",
              "    </tr>\n",
              "    <tr>\n",
              "      <th>882</th>\n",
              "      <td>2020-03-18</td>\n",
              "      <td>New York</td>\n",
              "      <td>36</td>\n",
              "      <td>2387</td>\n",
              "      <td>32</td>\n",
              "      <td>1012</td>\n",
              "    </tr>\n",
              "  </tbody>\n",
              "</table>\n",
              "</div>"
            ],
            "text/plain": [
              "           date     state  fips  cases  deaths  new_cases\n",
              "669  2020-03-14  New York    36    610       2        189\n",
              "722  2020-03-15  New York    36    732       6        122\n",
              "775  2020-03-16  New York    36    950      10        218\n",
              "828  2020-03-17  New York    36   1375      18        425\n",
              "882  2020-03-18  New York    36   2387      32       1012"
            ]
          },
          "metadata": {
            "tags": []
          },
          "execution_count": 33
        }
      ]
    },
    {
      "cell_type": "code",
      "metadata": {
        "id": "dQ-Qbk0e3vUj",
        "colab": {
          "base_uri": "https://localhost:8080/"
        },
        "outputId": "903ae781-d68b-4218-c250-223037035bd6"
      },
      "source": [
        "#total number of cases\n",
        "ny_df['cases'].max()"
      ],
      "execution_count": 13,
      "outputs": [
        {
          "output_type": "execute_result",
          "data": {
            "text/plain": [
              "2159139"
            ]
          },
          "metadata": {
            "tags": []
          },
          "execution_count": 13
        }
      ]
    },
    {
      "cell_type": "code",
      "metadata": {
        "id": "TNYs0GNm4K5O",
        "colab": {
          "base_uri": "https://localhost:8080/"
        },
        "outputId": "809c3499-d83c-4a66-c408-4ced14452da4"
      },
      "source": [
        "# not a correct way of calculating total count bcoz data is cumulative\n",
        "ny_df['cases'].sum()"
      ],
      "execution_count": 14,
      "outputs": [
        {
          "output_type": "execute_result",
          "data": {
            "text/plain": [
              "523100333"
            ]
          },
          "metadata": {
            "tags": []
          },
          "execution_count": 14
        }
      ]
    },
    {
      "cell_type": "markdown",
      "metadata": {
        "id": "vUbZP5tccvEp"
      },
      "source": [
        "Finding new covid 19 cases on daily basis (new cases added everyday)"
      ]
    },
    {
      "cell_type": "code",
      "metadata": {
        "id": "g-isLW6s4XaJ"
      },
      "source": [
        "#new cases for NY\n",
        "# type(ny_df['cases'])\n",
        "\n",
        "newcase = [] #newcase is variable \n",
        "previuos_case = 0\n",
        "for index, row in ny_df.iterrows(): #loop starts \n",
        "  current_case = row['cases']\n",
        "  newcase_count = current_case - previuos_case\n",
        "  previuos_case = current_case #set equal so that it keeps going to previous line, checking line by line to check for new data and calculate the difference\n",
        "  newcase.append(newcase_count)\n",
        "  # print(newcase_count)"
      ],
      "execution_count": 15,
      "outputs": []
    },
    {
      "cell_type": "code",
      "metadata": {
        "id": "yKryzOu25uDi",
        "colab": {
          "base_uri": "https://localhost:8080/"
        },
        "outputId": "53ac75d3-4a15-43cd-c7e9-0f30c058dd3c"
      },
      "source": [
        "ny_df['new_cases'] = newcase"
      ],
      "execution_count": 16,
      "outputs": [
        {
          "output_type": "stream",
          "text": [
            "/usr/local/lib/python3.7/dist-packages/ipykernel_launcher.py:1: SettingWithCopyWarning: \n",
            "A value is trying to be set on a copy of a slice from a DataFrame.\n",
            "Try using .loc[row_indexer,col_indexer] = value instead\n",
            "\n",
            "See the caveats in the documentation: https://pandas.pydata.org/pandas-docs/stable/user_guide/indexing.html#returning-a-view-versus-a-copy\n",
            "  \"\"\"Entry point for launching an IPython kernel.\n"
          ],
          "name": "stderr"
        }
      ]
    },
    {
      "cell_type": "code",
      "metadata": {
        "id": "xSjQW7Gm8_cO",
        "colab": {
          "base_uri": "https://localhost:8080/",
          "height": 359
        },
        "outputId": "e723b224-d910-4c31-a761-4cf9113b36d6"
      },
      "source": [
        "ny_df.head(10)"
      ],
      "execution_count": 17,
      "outputs": [
        {
          "output_type": "execute_result",
          "data": {
            "text/html": [
              "<div>\n",
              "<style scoped>\n",
              "    .dataframe tbody tr th:only-of-type {\n",
              "        vertical-align: middle;\n",
              "    }\n",
              "\n",
              "    .dataframe tbody tr th {\n",
              "        vertical-align: top;\n",
              "    }\n",
              "\n",
              "    .dataframe thead th {\n",
              "        text-align: right;\n",
              "    }\n",
              "</style>\n",
              "<table border=\"1\" class=\"dataframe\">\n",
              "  <thead>\n",
              "    <tr style=\"text-align: right;\">\n",
              "      <th></th>\n",
              "      <th>date</th>\n",
              "      <th>state</th>\n",
              "      <th>fips</th>\n",
              "      <th>cases</th>\n",
              "      <th>deaths</th>\n",
              "      <th>new_cases</th>\n",
              "    </tr>\n",
              "  </thead>\n",
              "  <tbody>\n",
              "    <tr>\n",
              "      <th>246</th>\n",
              "      <td>2020-03-01</td>\n",
              "      <td>New York</td>\n",
              "      <td>36</td>\n",
              "      <td>1</td>\n",
              "      <td>0</td>\n",
              "      <td>1</td>\n",
              "    </tr>\n",
              "    <tr>\n",
              "      <th>261</th>\n",
              "      <td>2020-03-02</td>\n",
              "      <td>New York</td>\n",
              "      <td>36</td>\n",
              "      <td>1</td>\n",
              "      <td>0</td>\n",
              "      <td>0</td>\n",
              "    </tr>\n",
              "    <tr>\n",
              "      <th>276</th>\n",
              "      <td>2020-03-03</td>\n",
              "      <td>New York</td>\n",
              "      <td>36</td>\n",
              "      <td>2</td>\n",
              "      <td>0</td>\n",
              "      <td>1</td>\n",
              "    </tr>\n",
              "    <tr>\n",
              "      <th>293</th>\n",
              "      <td>2020-03-04</td>\n",
              "      <td>New York</td>\n",
              "      <td>36</td>\n",
              "      <td>11</td>\n",
              "      <td>0</td>\n",
              "      <td>9</td>\n",
              "    </tr>\n",
              "    <tr>\n",
              "      <th>313</th>\n",
              "      <td>2020-03-05</td>\n",
              "      <td>New York</td>\n",
              "      <td>36</td>\n",
              "      <td>22</td>\n",
              "      <td>0</td>\n",
              "      <td>11</td>\n",
              "    </tr>\n",
              "    <tr>\n",
              "      <th>338</th>\n",
              "      <td>2020-03-06</td>\n",
              "      <td>New York</td>\n",
              "      <td>36</td>\n",
              "      <td>44</td>\n",
              "      <td>0</td>\n",
              "      <td>22</td>\n",
              "    </tr>\n",
              "    <tr>\n",
              "      <th>369</th>\n",
              "      <td>2020-03-07</td>\n",
              "      <td>New York</td>\n",
              "      <td>36</td>\n",
              "      <td>89</td>\n",
              "      <td>0</td>\n",
              "      <td>45</td>\n",
              "    </tr>\n",
              "    <tr>\n",
              "      <th>404</th>\n",
              "      <td>2020-03-08</td>\n",
              "      <td>New York</td>\n",
              "      <td>36</td>\n",
              "      <td>106</td>\n",
              "      <td>0</td>\n",
              "      <td>17</td>\n",
              "    </tr>\n",
              "    <tr>\n",
              "      <th>440</th>\n",
              "      <td>2020-03-09</td>\n",
              "      <td>New York</td>\n",
              "      <td>36</td>\n",
              "      <td>142</td>\n",
              "      <td>0</td>\n",
              "      <td>36</td>\n",
              "    </tr>\n",
              "    <tr>\n",
              "      <th>478</th>\n",
              "      <td>2020-03-10</td>\n",
              "      <td>New York</td>\n",
              "      <td>36</td>\n",
              "      <td>173</td>\n",
              "      <td>0</td>\n",
              "      <td>31</td>\n",
              "    </tr>\n",
              "  </tbody>\n",
              "</table>\n",
              "</div>"
            ],
            "text/plain": [
              "           date     state  fips  cases  deaths  new_cases\n",
              "246  2020-03-01  New York    36      1       0          1\n",
              "261  2020-03-02  New York    36      1       0          0\n",
              "276  2020-03-03  New York    36      2       0          1\n",
              "293  2020-03-04  New York    36     11       0          9\n",
              "313  2020-03-05  New York    36     22       0         11\n",
              "338  2020-03-06  New York    36     44       0         22\n",
              "369  2020-03-07  New York    36     89       0         45\n",
              "404  2020-03-08  New York    36    106       0         17\n",
              "440  2020-03-09  New York    36    142       0         36\n",
              "478  2020-03-10  New York    36    173       0         31"
            ]
          },
          "metadata": {
            "tags": []
          },
          "execution_count": 17
        }
      ]
    },
    {
      "cell_type": "code",
      "metadata": {
        "id": "PK0Tq2qs-JTJ",
        "colab": {
          "base_uri": "https://localhost:8080/"
        },
        "outputId": "fa2d3496-b97c-45d4-dc4f-5530b4744171"
      },
      "source": [
        "ny_df['new_cases'].sum()\n",
        "#can use sum because each number of cases diff but deaths cumulative "
      ],
      "execution_count": 18,
      "outputs": [
        {
          "output_type": "execute_result",
          "data": {
            "text/plain": [
              "2159139"
            ]
          },
          "metadata": {
            "tags": []
          },
          "execution_count": 18
        }
      ]
    },
    {
      "cell_type": "code",
      "metadata": {
        "id": "CvPTpg6T-p15"
      },
      "source": [
        "ny_cases = ny_df['cases']\n",
        "ny_deaths = ny_df['deaths']\n",
        "ny_dates = ny_df['date']\n",
        "ny_new_cases = ny_df['new_cases']"
      ],
      "execution_count": 19,
      "outputs": []
    },
    {
      "cell_type": "code",
      "metadata": {
        "id": "g14xWA8g_6nZ",
        "colab": {
          "base_uri": "https://localhost:8080/"
        },
        "outputId": "01f2dde1-d630-4ebd-e5ab-30044eb8852e"
      },
      "source": [
        "type(ny_new_cases)"
      ],
      "execution_count": 20,
      "outputs": [
        {
          "output_type": "execute_result",
          "data": {
            "text/plain": [
              "pandas.core.series.Series"
            ]
          },
          "metadata": {
            "tags": []
          },
          "execution_count": 20
        }
      ]
    },
    {
      "cell_type": "code",
      "metadata": {
        "id": "QDc2omEP_-qS",
        "colab": {
          "base_uri": "https://localhost:8080/",
          "height": 315
        },
        "outputId": "537d6482-19b3-498f-c22e-375cbeb2e06a"
      },
      "source": [
        "ny_df.plot(kind='bar')"
      ],
      "execution_count": 21,
      "outputs": [
        {
          "output_type": "execute_result",
          "data": {
            "text/plain": [
              "<matplotlib.axes._subplots.AxesSubplot at 0x7f8993fa9d50>"
            ]
          },
          "metadata": {
            "tags": []
          },
          "execution_count": 21
        },
        {
          "output_type": "display_data",
          "data": {
            "image/png": "[encoded data removed]",
            "text/plain": [
              "<Figure size 432x288 with 1 Axes>"
            ]
          },
          "metadata": {
            "tags": [],
            "needs_background": "light"
          }
        }
      ]
    },
    {
      "cell_type": "code",
      "metadata": {
        "id": "-PtteplsAWT-",
        "colab": {
          "base_uri": "https://localhost:8080/",
          "height": 419
        },
        "outputId": "3dbc2b32-69aa-467f-b893-75221556be6a"
      },
      "source": [
        "plt.figure(figsize=(15,7))\n",
        "plt.bar(x=ny_dates, height=ny_new_cases, color='red')\n",
        "plt.xticks(rotation=90)\n",
        "plt.show()"
      ],
      "execution_count": 22,
      "outputs": [
        {
          "output_type": "display_data",
          "data": {
            "image/png": "[encoded data removed]",
            "text/plain": [
              "<Figure size 1080x504 with 1 Axes>"
            ]
          },
          "metadata": {
            "tags": [],
            "needs_background": "light"
          }
        }
      ]
    },
    {
      "cell_type": "markdown",
      "metadata": {
        "id": "IKuLfv3SF27O"
      },
      "source": [
        "# Task4: Understand NY covid 19 data in last 30 days"
      ]
    },
    {
      "cell_type": "code",
      "metadata": {
        "id": "280y4sHrAyuk"
      },
      "source": [
        "ny_cases_30 = ny_df['cases'][-31:-1] #-1 shows last elements, range from last element to the 30th element\n",
        "ny_deaths_30 = ny_df['deaths'] [-31:-1]\n",
        "ny_dates_30 = ny_df['date'][-31:-1]\n",
        "ny_new_cases_30 = ny_df['new_cases'][-31:-1]"
      ],
      "execution_count": null,
      "outputs": []
    },
    {
      "cell_type": "code",
      "metadata": {
        "id": "BUDcyVRwHY6F"
      },
      "source": [
        "# ny_dates_30"
      ],
      "execution_count": null,
      "outputs": []
    },
    {
      "cell_type": "code",
      "metadata": {
        "id": "MrRo6IcSHa6F",
        "colab": {
          "base_uri": "https://localhost:8080/",
          "height": 496
        },
        "outputId": "d7fb7813-e482-40e9-d49b-0f1e49e758be"
      },
      "source": [
        "plt.figure(figsize=(15,7))\n",
        "plt.bar(x=ny_dates_30, height=ny_new_cases_30, color='red')\n",
        "plt.xticks(rotation=90)\n",
        "plt.show()"
      ],
      "execution_count": null,
      "outputs": [
        {
          "output_type": "display_data",
          "data": {
            "image/png": "[encoded data removed]",
            "text/plain": [
              "<Figure size 1080x504 with 1 Axes>"
            ]
          },
          "metadata": {
            "tags": [],
            "needs_background": "light"
          }
        }
      ]
    },
    {
      "cell_type": "code",
      "metadata": {
        "colab": {
          "base_uri": "https://localhost:8080/",
          "height": 459
        },
        "id": "TG0hPnVKm0E0",
        "outputId": "4181f9da-a01d-4194-e67c-8b5762f97d52"
      },
      "source": [
        "plt.figure(figsize=(15,7))\n",
        "plt.bar(x=ny_dates_30, height=ny_deaths_30, color='blue')\n",
        "plt.xticks(rotation=90)\n",
        "plt.show()"
      ],
      "execution_count": null,
      "outputs": [
        {
          "output_type": "display_data",
          "data": {
            "image/png": "[encoded data removed]",
            "text/plain": [
              "<Figure size 1080x504 with 1 Axes>"
            ]
          },
          "metadata": {
            "tags": [],
            "needs_background": "light"
          }
        }
      ]
    },
    {
      "cell_type": "markdown",
      "metadata": {
        "id": "PtjNZZmOdAhy"
      },
      "source": [
        "# Comparing Covid 19 data with different states"
      ]
    },
    {
      "cell_type": "markdown",
      "metadata": {
        "id": "HInHQMh0dHvu"
      },
      "source": [
        "Let's compare the Covid 19 cases after July for states: New York, California, Florida, Texas, Arizona"
      ]
    },
    {
      "cell_type": "code",
      "metadata": {
        "id": "vu_eV2RmHvyO"
      },
      "source": [
        "states = ['New York', 'California','Florida', 'Texas','Arizona']"
      ],
      "execution_count": null,
      "outputs": []
    },
    {
      "cell_type": "code",
      "metadata": {
        "id": "2xVCN1IBInu0",
        "colab": {
          "base_uri": "https://localhost:8080/",
          "height": 478
        },
        "outputId": "d6021c7e-1662-41db-a592-5ef41f094187"
      },
      "source": [
        "plt.figure(figsize=(15,7))\n",
        "for state in states:\n",
        "  df_st = df[(df['state']==state) & (df['date']>='2020-11-01')]\n",
        "  plt.plot(df_st['date'],\n",
        "           df_st['cases'],\n",
        "           linewidth=2\n",
        "           )\n",
        "  plt.xticks(rotation=90)\n",
        "plt.legend(states)\n",
        "plt.show()\n"
      ],
      "execution_count": null,
      "outputs": [
        {
          "output_type": "display_data",
          "data": {
            "image/png": "[encoded data removed]",
            "text/plain": [
              "<Figure size 1080x504 with 1 Axes>"
            ]
          },
          "metadata": {
            "tags": [],
            "needs_background": "light"
          }
        }
      ]
    },
    {
      "cell_type": "markdown",
      "metadata": {
        "id": "Hwch-J5PIHA1"
      },
      "source": [
        "# Conclusion"
      ]
    },
    {
      "cell_type": "markdown",
      "metadata": {
        "id": "q5G5KP6CINBS"
      },
      "source": [
        "Below are the conclusions:\n",
        "\n",
        "\n",
        "\n",
        "1.   Conclusion 1- \n",
        "    Based on the graphs, Washington was the first state that had records of people contacting COVID-19. The last date recorded is August 4th at Wisconsin. From the red bar graphs, I can tell that cases rise the most during the winter months and go down during the summer. Right now there's an increase again due to the Delta variant. Most of the cases, 80%, in NYS is due to the Delta variant. \n",
        "    \n",
        "2.   Conclusion 2- \n",
        "    Regarding deaths, most deaths were reported to be greater than 30,000 around, 32,500 from November to December of last year. Based on the line graph of the five states above, I can see a small dip in the line for states such as Florida, Texas, and California. This is around November 26th, so during Thanksgiving there were more gatherings, people stayed at home more which might lead to less spreading. However, this is kind of contradictory since I read that most people contacted COVID-19 because of family members. \n",
        "\n"
      ]
    },
    {
      "cell_type": "code",
      "metadata": {
        "id": "GCwtlBzLB9CU"
      },
      "source": [
        "Conclusion 1:\n",
        "state \n",
        "month \n",
        "summer \n",
        "winter rise "
      ],
      "execution_count": null,
      "outputs": []
    }
  ]
}