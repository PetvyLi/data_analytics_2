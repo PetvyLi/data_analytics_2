{
  "nbformat": 4,
  "nbformat_minor": 0,
  "metadata": {
    "colab": {
      "name": "assignment_2_6.ipynb",
      "provenance": []
    },
    "kernelspec": {
      "name": "python3",
      "display_name": "Python 3"
    },
    "language_info": {
      "name": "python"
    }
  },
  "cells": [
    {
      "cell_type": "code",
      "metadata": {
        "colab": {
          "base_uri": "https://localhost:8080/"
        },
        "id": "ber6LbrTxml-",
        "outputId": "54d215f1-dad3-4236-a216-78a448292a28"
      },
      "source": [
        "#Create a simple dictionary that stores 2 variables, for example: first and last name.\n",
        "name = {\"first_name\": \"Petvy\", \"last_name\": \"Li\"}\n",
        "\n",
        "#Print out those variables stored in your previous dictionary. \n",
        "print(name[\"first_name\"])\n",
        "print(name[\"last_name\"])\n",
        "\n",
        "#Add a message to those variables on printing: for example: “Hello, firstname lastname!”\n",
        "print(\"Hello, \" + name[\"first_name\"] + \" \" + name[\"last_name\"])\n",
        "\n",
        "#Create a dictionary that holds 2 key: value pairs:\n",
        "#Look through your dictionary and print each pair,\n",
        "measurements = {\"height\": \" : 163 cm\", \"weight\" : \" : 120 lb\"}\n",
        "for key, value in measurements.items(): \n",
        "  print(key + value)\n",
        "\n",
        "#Create a nested dictionary containing three dictionaries – these dictionaries could be anything (favorite pets, travel locations, etc.)\n",
        "#Loop through the dictionaries and print a message for each.\n",
        "\n",
        "people = {\"Person A\":{\"Name\": \"John\", \"Age\": 20, \"Favorite food\": \"Pizza\"},\n",
        "          \"Person B\":{\"Name\": \"Sally\", \"Age\": 25, \"Favorite food\": \"Mochi\"},\n",
        "          \"Person C\":{\"Name\": \"Mike\", \"Age\": 27, \"Favorite food\": \"Chips\"}}\n",
        "for key, value in people.items():\n",
        "  print(\"This is a person and their information:\", key, value)\n"
      ],
      "execution_count": null,
      "outputs": [
        {
          "output_type": "stream",
          "text": [
            "Petvy\n",
            "Li\n",
            "Hello, Petvy Li\n",
            "height : 163 cm\n",
            "weight : 120 lb\n",
            "This is a person and their information: Person A {'Name': 'John', 'Age': 20, 'Favorite food': 'Pizza'}\n",
            "This is a person and their information: Person B {'Name': 'Sally', 'Age': 25, 'Favorite food': 'Mochi'}\n",
            "This is a person and their information: Person C {'Name': 'Mike', 'Age': 27, 'Favorite food': 'Chips'}\n"
          ],
          "name": "stdout"
        }
      ]
    }
  ]
}