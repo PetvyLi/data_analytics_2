{
  "nbformat": 4,
  "nbformat_minor": 5,
  "metadata": {
    "jupytext": {
      "cell_metadata_filter": "-all",
      "main_language": "python",
      "notebook_metadata_filter": "-all"
    },
    "kernelspec": {
      "display_name": "Python 3 (ipykernel)",
      "language": "python",
      "name": "python3"
    },
    "language_info": {
      "codemirror_mode": {
        "name": "ipython",
        "version": 3
      },
      "file_extension": ".py",
      "mimetype": "text/x-python",
      "name": "python",
      "nbconvert_exporter": "python",
      "pygments_lexer": "ipython3",
      "version": "3.8.10"
    },
    "colab": {
      "name": "PetvyLi_Copy of addedtwoKNN_Assignment.ipynb",
      "provenance": [],
      "collapsed_sections": []
    }
  },
  "cells": [
    {
      "cell_type": "markdown",
      "metadata": {
        "id": "ecd63725"
      },
      "source": [
        "# KNN Classification using Scikit-learn\n",
        "**Learn K-Nearest Neighbor(KNN) Classification and build KNN classifier using Python Scikit-learn package.**"
      ],
      "id": "ecd63725"
    },
    {
      "cell_type": "markdown",
      "metadata": {
        "id": "e54ac301"
      },
      "source": [
        "K Nearest Neighbor(KNN) is a very simple, easy to understand, versatile and one of the topmost machine learning algorithms. KNN is used in a variety of applications such as finance, healthcare, political science, handwriting detection, image recognition and video recognition. In Credit ratings, financial institutes will predict the credit rating of customers. In loan disbursement, banking institutes will predict whether the loan is safe or risky. In political science, classifying potential voters in two classes will vote or won’t vote. The KNN algorithm is used for both classification and regression problems. The algorithm based on a feature similarity approach.\n",
        "\n",
        "In this tutorial, you are going to cover the following topics:\n",
        "\n",
        "* K-Nearest Neighbor Algorithm\n",
        "* How does the KNN algorithm work?\n",
        "* Eager Vs Lazy learners\n",
        "* How do you decide the number of neighbors in KNN?\n",
        "* Curse of Dimensionality\n",
        "* Classifier Building in Scikit-learn\n",
        "* Pros and Cons\n",
        "* How to improve KNN performance?\n",
        "* Conclusion\n",
        "\n",
        "## K-Nearest Neighbors\n",
        "\n",
        "![](graphics/K-Nearest.png)\n",
        "\n",
        "KNN is a non-parametric and lazy learning algorithm. Non-parametric means there is no assumption for underlying data distribution. In other words, the model structure determined from the dataset. This will be very helpful in practice where most of the real world datasets do not follow mathematical theoretical assumptions. Lazy algorithm means it does not need any training data points for model generation. All training data is used in the testing phase. This makes training faster and the testing phase slower and costlier. Costly testing phase means time and memory. In the worst case, KNN needs more time to scan all data points and scanning all data points will require more memory for storing training data.\n",
        "\n",
        "## How does the KNN algorithm work?\n",
        "\n",
        "In KNN, K is the number of nearest neighbors. The number of neighbors is the core deciding factor. K is generally an odd number if the number of classes is 2. When K=1, then the algorithm is known as the nearest neighbor algorithm. This is the simplest case. Suppose P1 is the point, for which label needs to predict. First, you find the one closest point to P1 and then the label of the nearest point assigned to P1.\n",
        "\n",
        "\n",
        "![](graphics/Knn_k1.png)\n",
        "\n",
        "Suppose P1 is the point, for which a label needs to be predicted. First, you find the k closest points to P1 and then classify points by majority vote of its k neighbors. Each object votes for their class and the class with the most votes is taken as the prediction. For finding closest similar points, you find the distance between points using distance measures such as Euclidean distance, Hamming distance, Manhattan distance and Minkowski distance. KNN has the following basic steps:\n",
        "\n",
        "1. Calculate distance\n",
        "2. Find closest neighbors\n",
        "3. Vote for labels\n",
        "\n",
        "\n",
        "![](graphics/KNN_final1.png)\n",
        "\n",
        "## Eager Vs. Lazy Learners\n",
        "\n",
        "Eager learners mean when given training points will construct a generalized model before performing prediction on given new points to classify. You can think of such learners as being ready, active and eager to classify unobserved data points.\n",
        "\n",
        "Lazy Learning means there is no need for learning or training of the model and all of the data points used at the time of prediction. Lazy learners wait until the last minute before classifying any data point. A lazy learner merely stores the training dataset and waits until classification needs to perform. Only when it sees the test tuple does it perform generalization to classify the tuple based on its similarity to the stored training tuples. Unlike eager learning methods, lazy learners do less work in the training phase and more work in the testing phase to make a classification. Lazy learners are also known as instance-based learners because lazy learners store the training points or instances, and all learning is based on instances.\n",
        "\n",
        "## Curse of Dimensionality\n",
        "\n",
        "KNN performs better with a lower number of features than a large number of features. You can say that when the number of features increases than it requires more data. Increase in dimension also leads to the problem of overfitting. To avoid overfitting, the needed data will need to grow exponentially as you increase the number of dimensions. This problem of higher dimension is known as the Curse of Dimensionality.\n",
        "\n",
        "To deal with the problem of the curse of dimensionality, you need to perform principal component analysis before applying any machine learning algorithm, or you can also use feature selection approach. Research has shown that in large dimension Euclidean distance is not useful anymore. Therefore, you can prefer other measures such as cosine similarity, which get decidedly less affected by high dimension.\n",
        "\n",
        "## How do you decide the number of neighbors in KNN?\n",
        "\n",
        "Now, you understand the KNN algorithm working mechanism. At this point, the question arises that How to choose the optimal number of neighbors? And what are its effects on the classifier? The number of neighbors(K) in KNN is a hyperparameter that you need choose at the time of model building. You can think of K as a controlling variable for the prediction model.\n",
        "\n",
        "Research has shown that no optimal number of neighbors suits all kind of data sets. Each dataset has it's own requirements. In the case of a small number of neighbors, the noise will have a higher influence on the result, and a large number of neighbors make it computationally expensive. Research has also shown that a small amount of neighbors are most flexible fit which will have low bias but high variance and a large number of neighbors will have a smoother decision boundary which means lower variance but higher bias.\n",
        "\n",
        "Generally, Data scientists choose as an odd number if the number of classes is even. You can also check by generating the model on different values of k and check their performance. You can also try Elbow method here.\n",
        "\n",
        "\n",
        "![](graphics/KNN_final.png)\n",
        "\n",
        "## Classifier Building in Scikit-learn\n",
        "\n",
        "### KNN Classifier\n",
        "\n",
        "#### Defining dataset\n",
        "\n",
        "Let's first create your own dataset. Here you need two kinds of attributes or columns in your data: Feature and label. The reason for two type of column is \"supervised nature of KNN algorithm\".\n"
      ],
      "id": "e54ac301"
    },
    {
      "cell_type": "code",
      "metadata": {
        "id": "3f43590a"
      },
      "source": [
        "# Assigning features and label variables\n",
        "# First Feature\n",
        "weather=['Sunny','Sunny','Overcast','Rainy','Rainy','Rainy','Overcast','Sunny','Sunny',\n",
        "'Rainy','Sunny','Overcast','Overcast','Rainy']\n",
        "# Second Feature\n",
        "temp=['Hot','Hot','Hot','Mild','Cool','Cool','Cool','Mild','Cool','Mild','Mild','Mild','Hot','Mild']\n",
        "\n",
        "# Label or target varible\n",
        "play=['No','No','Yes','Yes','Yes','No','Yes','No','Yes','Yes','Yes','Yes','Yes','No']"
      ],
      "id": "3f43590a",
      "execution_count": null,
      "outputs": []
    },
    {
      "cell_type": "markdown",
      "metadata": {
        "id": "b8df1eba"
      },
      "source": [
        "In this dataset, you have two features (weather and temperature) and one label(play).\n",
        "\n",
        "#### Encoding data columns\n",
        "\n",
        "Various machine learning algorithms require numerical input data, so you need to represent categorical columns in a numerical column.\n",
        "\n",
        "In order to encode this data, you could map each value to a number. e.g. Overcast:0, Rainy:1, and Sunny:2.\n",
        "\n",
        "This process is known as label encoding, and sklearn conveniently will do this for you using Label Encoder.\n"
      ],
      "id": "b8df1eba"
    },
    {
      "cell_type": "code",
      "metadata": {
        "colab": {
          "base_uri": "https://localhost:8080/"
        },
        "id": "43ecb13a",
        "outputId": "68be27c6-23e1-48bc-c059-c44ba4e62186"
      },
      "source": [
        "# Import LabelEncoder\n",
        "from sklearn import preprocessing\n",
        "\n",
        "#creating labelEncoder\n",
        "le = preprocessing.LabelEncoder()\n",
        "\n",
        "# Converting string labels into numbers.\n",
        "weather_encoded=le.fit_transform(weather)\n",
        "print(weather_encoded)"
      ],
      "id": "43ecb13a",
      "execution_count": null,
      "outputs": [
        {
          "output_type": "stream",
          "text": [
            "[2 2 0 1 1 1 0 2 2 1 2 0 0 1]\n"
          ],
          "name": "stdout"
        }
      ]
    },
    {
      "cell_type": "markdown",
      "metadata": {
        "id": "ec296f97"
      },
      "source": [
        "Here, you imported preprocessing module and created Label Encoder object.\n",
        "Using this LabelEncoder object, you can fit and transform \"weather\" column into the numeric column.\n",
        "\n",
        "Similarly, you can encode temperature and label into numeric columns.\n"
      ],
      "id": "ec296f97"
    },
    {
      "cell_type": "code",
      "metadata": {
        "id": "595aa7f9"
      },
      "source": [
        "# converting string labels into numbers\n",
        "temp_encoded=le.fit_transform(temp)\n",
        "label=le.fit_transform(play)"
      ],
      "id": "595aa7f9",
      "execution_count": null,
      "outputs": []
    },
    {
      "cell_type": "markdown",
      "metadata": {
        "id": "c28d7d18"
      },
      "source": [
        "#### Combining Features\n",
        "\n",
        "Here, you will combine multiple columns or features into a single set of data using \"zip\" function\n"
      ],
      "id": "c28d7d18"
    },
    {
      "cell_type": "code",
      "metadata": {
        "id": "2e619f11"
      },
      "source": [
        "#combinig weather and temp into single listof tuples\n",
        "features=list(zip(weather_encoded,temp_encoded))"
      ],
      "id": "2e619f11",
      "execution_count": null,
      "outputs": []
    },
    {
      "cell_type": "markdown",
      "metadata": {
        "id": "b0504e2b"
      },
      "source": [
        "#### Generating Model\n",
        "\n",
        "Let's build KNN classifier model.\n",
        "\n",
        "First, import the KNeighborsClassifier module and create KNN classifier object by passing argument number of neighbors in KNeighborsClassifier() function.\n",
        "\n",
        "Then, fit your model on the train set using fit() and perform prediction on the test set using predict().\n"
      ],
      "id": "b0504e2b"
    },
    {
      "cell_type": "code",
      "metadata": {
        "colab": {
          "base_uri": "https://localhost:8080/"
        },
        "id": "b7a63bfd",
        "outputId": "4957f356-5ef0-49ff-dd85-5566c5b94271"
      },
      "source": [
        "from sklearn.neighbors import KNeighborsClassifier\n",
        "\n",
        "model = KNeighborsClassifier(n_neighbors=3)\n",
        "\n",
        "# Train the model using the training sets\n",
        "model.fit(features,label)\n",
        "\n",
        "#Predict Output\n",
        "predicted= model.predict([[0,2]]) # 0:Overcast, 2:Mild\n",
        "print(predicted)"
      ],
      "id": "b7a63bfd",
      "execution_count": null,
      "outputs": [
        {
          "output_type": "stream",
          "text": [
            "[1]\n"
          ],
          "name": "stdout"
        }
      ]
    },
    {
      "cell_type": "markdown",
      "metadata": {
        "id": "2f979a5b"
      },
      "source": [
        "In the above example, you have given input [0,2], where 0 means Overcast weather and 2 means Mild temperature. Model predicts [1], which means play.\n",
        "\n",
        "### KNN with Multiple Labels\n",
        "\n",
        "Till now, you have learned How to create KNN classifier for two in python using scikit-learn. Now you will learn about KNN with multiple classes.\n",
        "\n",
        "In the model the building part, you can use the wine dataset, which is a very famous multi-class classification problem.\n",
        "This data is the result of a chemical analysis of wines grown in the same region in Italy using three different cultivars. The analysis determined the quantities of 13 constituents found in each of the three types of wines.\n",
        "\n",
        "The dataset comprises 13 features ('alcohol', 'malic_acid', 'ash', 'alcalinity_of_ash', 'magnesium', 'total_phenols', 'flavanoids', 'nonflavanoid_phenols', 'proanthocyanins', 'color_intensity', 'hue', 'od280/od315_of_diluted_wines', 'proline') and a target (type of cultivars).\n",
        "\n",
        "This data has three types of cultivar classes: 'class_0', 'class_1', and 'class_2'. Here, you can build a model to classify the type of cultivar. The dataset is available in the scikit-learn library, or you can also download it from the UCI Machine Learning Library.\n",
        "\n",
        "#### Loading Data\n",
        "\n",
        "Let's first load the required wine dataset from scikit-learn datasets.\n"
      ],
      "id": "2f979a5b"
    },
    {
      "cell_type": "code",
      "metadata": {
        "id": "f2bf5a41"
      },
      "source": [
        "import numpy as np\n",
        "import pandas as pd\n",
        "#Import scikit-learn dataset library\n",
        "from sklearn import datasets\n",
        "\n",
        "#Load dataset\n",
        "wine = datasets.load_wine()"
      ],
      "id": "f2bf5a41",
      "execution_count": null,
      "outputs": []
    },
    {
      "cell_type": "code",
      "metadata": {
        "id": "Gi0aVd7wTppG"
      },
      "source": [
        "wine = pd.DataFrame(data=np.c_[wine['data'], wine['target']],\n",
        "columns=wine['feature_names'] + ['target'])"
      ],
      "id": "Gi0aVd7wTppG",
      "execution_count": null,
      "outputs": []
    },
    {
      "cell_type": "markdown",
      "metadata": {
        "id": "b75e6fb2"
      },
      "source": [
        "#### Exploring Data\n",
        "\n",
        "After you have loaded the dataset, you might want to know a little bit more about it. You can check feature and target names.  \n"
      ],
      "id": "b75e6fb2"
    },
    {
      "cell_type": "code",
      "metadata": {
        "colab": {
          "base_uri": "https://localhost:8080/"
        },
        "id": "b97010e6",
        "outputId": "ea3733ff-77fd-4bb6-dc1b-23ee9b733129"
      },
      "source": [
        "# print the names of the features\n",
        "print(wine.target)"
      ],
      "id": "b97010e6",
      "execution_count": null,
      "outputs": [
        {
          "output_type": "stream",
          "text": [
            "0      0.0\n",
            "1      0.0\n",
            "2      0.0\n",
            "3      0.0\n",
            "4      0.0\n",
            "      ... \n",
            "173    2.0\n",
            "174    2.0\n",
            "175    2.0\n",
            "176    2.0\n",
            "177    2.0\n",
            "Name: target, Length: 178, dtype: float64\n"
          ],
          "name": "stdout"
        }
      ]
    },
    {
      "cell_type": "code",
      "metadata": {
        "colab": {
          "base_uri": "https://localhost:8080/"
        },
        "id": "e947d4ca",
        "outputId": "98b0d9e0-e86a-4560-a4df-d02b8aaa9bca"
      },
      "source": [
        "wine.shape\n",
        "\n"
      ],
      "id": "e947d4ca",
      "execution_count": null,
      "outputs": [
        {
          "output_type": "execute_result",
          "data": {
            "text/plain": [
              "(178, 14)"
            ]
          },
          "metadata": {
            "tags": []
          },
          "execution_count": 52
        }
      ]
    },
    {
      "cell_type": "markdown",
      "metadata": {
        "id": "631ecd0e"
      },
      "source": [
        "Let's check top 5 records of the feature set.\n"
      ],
      "id": "631ecd0e"
    },
    {
      "cell_type": "code",
      "metadata": {
        "colab": {
          "base_uri": "https://localhost:8080/",
          "height": 439
        },
        "id": "ba94b5a2",
        "outputId": "f78dfa08-43cb-4df3-de7b-2b01713f8e37"
      },
      "source": [
        "wine"
      ],
      "id": "ba94b5a2",
      "execution_count": null,
      "outputs": [
        {
          "output_type": "execute_result",
          "data": {
            "text/html": [
              "<div>\n",
              "<style scoped>\n",
              "    .dataframe tbody tr th:only-of-type {\n",
              "        vertical-align: middle;\n",
              "    }\n",
              "\n",
              "    .dataframe tbody tr th {\n",
              "        vertical-align: top;\n",
              "    }\n",
              "\n",
              "    .dataframe thead th {\n",
              "        text-align: right;\n",
              "    }\n",
              "</style>\n",
              "<table border=\"1\" class=\"dataframe\">\n",
              "  <thead>\n",
              "    <tr style=\"text-align: right;\">\n",
              "      <th></th>\n",
              "      <th>alcohol</th>\n",
              "      <th>malic_acid</th>\n",
              "      <th>ash</th>\n",
              "      <th>alcalinity_of_ash</th>\n",
              "      <th>magnesium</th>\n",
              "      <th>total_phenols</th>\n",
              "      <th>flavanoids</th>\n",
              "      <th>nonflavanoid_phenols</th>\n",
              "      <th>proanthocyanins</th>\n",
              "      <th>color_intensity</th>\n",
              "      <th>hue</th>\n",
              "      <th>od280/od315_of_diluted_wines</th>\n",
              "      <th>proline</th>\n",
              "      <th>target</th>\n",
              "    </tr>\n",
              "  </thead>\n",
              "  <tbody>\n",
              "    <tr>\n",
              "      <th>0</th>\n",
              "      <td>14.23</td>\n",
              "      <td>1.71</td>\n",
              "      <td>2.43</td>\n",
              "      <td>15.6</td>\n",
              "      <td>127.0</td>\n",
              "      <td>2.80</td>\n",
              "      <td>3.06</td>\n",
              "      <td>0.28</td>\n",
              "      <td>2.29</td>\n",
              "      <td>5.64</td>\n",
              "      <td>1.04</td>\n",
              "      <td>3.92</td>\n",
              "      <td>1065.0</td>\n",
              "      <td>0.0</td>\n",
              "    </tr>\n",
              "    <tr>\n",
              "      <th>1</th>\n",
              "      <td>13.20</td>\n",
              "      <td>1.78</td>\n",
              "      <td>2.14</td>\n",
              "      <td>11.2</td>\n",
              "      <td>100.0</td>\n",
              "      <td>2.65</td>\n",
              "      <td>2.76</td>\n",
              "      <td>0.26</td>\n",
              "      <td>1.28</td>\n",
              "      <td>4.38</td>\n",
              "      <td>1.05</td>\n",
              "      <td>3.40</td>\n",
              "      <td>1050.0</td>\n",
              "      <td>0.0</td>\n",
              "    </tr>\n",
              "    <tr>\n",
              "      <th>2</th>\n",
              "      <td>13.16</td>\n",
              "      <td>2.36</td>\n",
              "      <td>2.67</td>\n",
              "      <td>18.6</td>\n",
              "      <td>101.0</td>\n",
              "      <td>2.80</td>\n",
              "      <td>3.24</td>\n",
              "      <td>0.30</td>\n",
              "      <td>2.81</td>\n",
              "      <td>5.68</td>\n",
              "      <td>1.03</td>\n",
              "      <td>3.17</td>\n",
              "      <td>1185.0</td>\n",
              "      <td>0.0</td>\n",
              "    </tr>\n",
              "    <tr>\n",
              "      <th>3</th>\n",
              "      <td>14.37</td>\n",
              "      <td>1.95</td>\n",
              "      <td>2.50</td>\n",
              "      <td>16.8</td>\n",
              "      <td>113.0</td>\n",
              "      <td>3.85</td>\n",
              "      <td>3.49</td>\n",
              "      <td>0.24</td>\n",
              "      <td>2.18</td>\n",
              "      <td>7.80</td>\n",
              "      <td>0.86</td>\n",
              "      <td>3.45</td>\n",
              "      <td>1480.0</td>\n",
              "      <td>0.0</td>\n",
              "    </tr>\n",
              "    <tr>\n",
              "      <th>4</th>\n",
              "      <td>13.24</td>\n",
              "      <td>2.59</td>\n",
              "      <td>2.87</td>\n",
              "      <td>21.0</td>\n",
              "      <td>118.0</td>\n",
              "      <td>2.80</td>\n",
              "      <td>2.69</td>\n",
              "      <td>0.39</td>\n",
              "      <td>1.82</td>\n",
              "      <td>4.32</td>\n",
              "      <td>1.04</td>\n",
              "      <td>2.93</td>\n",
              "      <td>735.0</td>\n",
              "      <td>0.0</td>\n",
              "    </tr>\n",
              "    <tr>\n",
              "      <th>...</th>\n",
              "      <td>...</td>\n",
              "      <td>...</td>\n",
              "      <td>...</td>\n",
              "      <td>...</td>\n",
              "      <td>...</td>\n",
              "      <td>...</td>\n",
              "      <td>...</td>\n",
              "      <td>...</td>\n",
              "      <td>...</td>\n",
              "      <td>...</td>\n",
              "      <td>...</td>\n",
              "      <td>...</td>\n",
              "      <td>...</td>\n",
              "      <td>...</td>\n",
              "    </tr>\n",
              "    <tr>\n",
              "      <th>173</th>\n",
              "      <td>13.71</td>\n",
              "      <td>5.65</td>\n",
              "      <td>2.45</td>\n",
              "      <td>20.5</td>\n",
              "      <td>95.0</td>\n",
              "      <td>1.68</td>\n",
              "      <td>0.61</td>\n",
              "      <td>0.52</td>\n",
              "      <td>1.06</td>\n",
              "      <td>7.70</td>\n",
              "      <td>0.64</td>\n",
              "      <td>1.74</td>\n",
              "      <td>740.0</td>\n",
              "      <td>2.0</td>\n",
              "    </tr>\n",
              "    <tr>\n",
              "      <th>174</th>\n",
              "      <td>13.40</td>\n",
              "      <td>3.91</td>\n",
              "      <td>2.48</td>\n",
              "      <td>23.0</td>\n",
              "      <td>102.0</td>\n",
              "      <td>1.80</td>\n",
              "      <td>0.75</td>\n",
              "      <td>0.43</td>\n",
              "      <td>1.41</td>\n",
              "      <td>7.30</td>\n",
              "      <td>0.70</td>\n",
              "      <td>1.56</td>\n",
              "      <td>750.0</td>\n",
              "      <td>2.0</td>\n",
              "    </tr>\n",
              "    <tr>\n",
              "      <th>175</th>\n",
              "      <td>13.27</td>\n",
              "      <td>4.28</td>\n",
              "      <td>2.26</td>\n",
              "      <td>20.0</td>\n",
              "      <td>120.0</td>\n",
              "      <td>1.59</td>\n",
              "      <td>0.69</td>\n",
              "      <td>0.43</td>\n",
              "      <td>1.35</td>\n",
              "      <td>10.20</td>\n",
              "      <td>0.59</td>\n",
              "      <td>1.56</td>\n",
              "      <td>835.0</td>\n",
              "      <td>2.0</td>\n",
              "    </tr>\n",
              "    <tr>\n",
              "      <th>176</th>\n",
              "      <td>13.17</td>\n",
              "      <td>2.59</td>\n",
              "      <td>2.37</td>\n",
              "      <td>20.0</td>\n",
              "      <td>120.0</td>\n",
              "      <td>1.65</td>\n",
              "      <td>0.68</td>\n",
              "      <td>0.53</td>\n",
              "      <td>1.46</td>\n",
              "      <td>9.30</td>\n",
              "      <td>0.60</td>\n",
              "      <td>1.62</td>\n",
              "      <td>840.0</td>\n",
              "      <td>2.0</td>\n",
              "    </tr>\n",
              "    <tr>\n",
              "      <th>177</th>\n",
              "      <td>14.13</td>\n",
              "      <td>4.10</td>\n",
              "      <td>2.74</td>\n",
              "      <td>24.5</td>\n",
              "      <td>96.0</td>\n",
              "      <td>2.05</td>\n",
              "      <td>0.76</td>\n",
              "      <td>0.56</td>\n",
              "      <td>1.35</td>\n",
              "      <td>9.20</td>\n",
              "      <td>0.61</td>\n",
              "      <td>1.60</td>\n",
              "      <td>560.0</td>\n",
              "      <td>2.0</td>\n",
              "    </tr>\n",
              "  </tbody>\n",
              "</table>\n",
              "<p>178 rows × 14 columns</p>\n",
              "</div>"
            ],
            "text/plain": [
              "     alcohol  malic_acid   ash  ...  od280/od315_of_diluted_wines  proline  target\n",
              "0      14.23        1.71  2.43  ...                          3.92   1065.0     0.0\n",
              "1      13.20        1.78  2.14  ...                          3.40   1050.0     0.0\n",
              "2      13.16        2.36  2.67  ...                          3.17   1185.0     0.0\n",
              "3      14.37        1.95  2.50  ...                          3.45   1480.0     0.0\n",
              "4      13.24        2.59  2.87  ...                          2.93    735.0     0.0\n",
              "..       ...         ...   ...  ...                           ...      ...     ...\n",
              "173    13.71        5.65  2.45  ...                          1.74    740.0     2.0\n",
              "174    13.40        3.91  2.48  ...                          1.56    750.0     2.0\n",
              "175    13.27        4.28  2.26  ...                          1.56    835.0     2.0\n",
              "176    13.17        2.59  2.37  ...                          1.62    840.0     2.0\n",
              "177    14.13        4.10  2.74  ...                          1.60    560.0     2.0\n",
              "\n",
              "[178 rows x 14 columns]"
            ]
          },
          "metadata": {
            "tags": []
          },
          "execution_count": 10
        }
      ]
    },
    {
      "cell_type": "markdown",
      "metadata": {
        "id": "e0ddb9e7"
      },
      "source": [
        "Let's check records of the target set.\n"
      ],
      "id": "e0ddb9e7"
    },
    {
      "cell_type": "code",
      "metadata": {
        "colab": {
          "base_uri": "https://localhost:8080/"
        },
        "id": "7bc8b673",
        "outputId": "948b32d2-8c04-4d03-b66c-d0e18d86374b"
      },
      "source": [
        "# print the wine labels (0:Class_0, 1:Class_1, 2:Class_3)\n",
        "print(wine.target)"
      ],
      "id": "7bc8b673",
      "execution_count": null,
      "outputs": [
        {
          "output_type": "stream",
          "text": [
            "0      0.0\n",
            "1      0.0\n",
            "2      0.0\n",
            "3      0.0\n",
            "4      0.0\n",
            "      ... \n",
            "173    2.0\n",
            "174    2.0\n",
            "175    2.0\n",
            "176    2.0\n",
            "177    2.0\n",
            "Name: target, Length: 178, dtype: float64\n"
          ],
          "name": "stdout"
        }
      ]
    },
    {
      "cell_type": "markdown",
      "metadata": {
        "id": "f3991481"
      },
      "source": [
        "Let's explore it for a bit more. You can also check the shape of the dataset using shape.\n"
      ],
      "id": "f3991481"
    },
    {
      "cell_type": "markdown",
      "metadata": {
        "id": "oXvmgCtS4rG-"
      },
      "source": [
        "Normalize"
      ],
      "id": "oXvmgCtS4rG-"
    },
    {
      "cell_type": "code",
      "metadata": {
        "colab": {
          "base_uri": "https://localhost:8080/"
        },
        "id": "e871c681",
        "outputId": "74f34fb9-c861-4752-a8be-76f2adc5066a"
      },
      "source": [
        "# print target(or label)shape\n",
        "print(wine.target.shape)"
      ],
      "id": "e871c681",
      "execution_count": null,
      "outputs": [
        {
          "output_type": "stream",
          "text": [
            "(178,)\n"
          ],
          "name": "stdout"
        }
      ]
    },
    {
      "cell_type": "markdown",
      "metadata": {
        "id": "i0st7FgYTyKB"
      },
      "source": [
        "<h1>Quastions</h>\n",
        "\n",
        "Show the displot plot of data before scaling it.Use:\n",
        "\n",
        "1.   sns.distplot( ad_data[\"col_name1\"] , color=\"skyblue\")\n",
        "\n",
        "2.   Standardization  of data ,Standarize the data using :\n",
        "\n",
        "# Using StandardScaler library\n",
        "from sklearn.preprocessing import StandardScaler\n",
        "# define scaler\n",
        "scalar = StandardScaler()\n",
        "#fit() calculates the parameters (𝜇,std,var) when StandardScaler used\n",
        "\n",
        "scalar.fit()\n",
        "\n",
        "and  transform data\n",
        "scaled_features = scalar.transform\n"
      ],
      "id": "i0st7FgYTyKB"
    },
    {
      "cell_type": "markdown",
      "metadata": {
        "id": "5mnD9eMKBSPX"
      },
      "source": [
        "# ****THE REASON FOR SCALING IS SO THAT DATA FALLS WITHIN SAME RANGE SO EASIER TO COMPARE****"
      ],
      "id": "5mnD9eMKBSPX"
    },
    {
      "cell_type": "code",
      "metadata": {
        "colab": {
          "base_uri": "https://localhost:8080/",
          "height": 385
        },
        "id": "kL_OJ2xXRltr",
        "outputId": "ecba6965-5900-42f4-95c4-697a4458bd14"
      },
      "source": [
        "import seaborn as sns\n",
        "%matplotlib inline\n",
        "import matplotlib.pyplot as plt\n",
        "\n",
        "sns.distplot( wine[\"ash\"] , color=\"skyblue\")\n",
        "sns.distplot( wine[\"nonflavanoid_phenols\"], color = \"red\")\n",
        "#sns.distplot( wine[\"malic_acid\"], color = \"yellow\")\n",
        "#sns.distplot( wine[\"magnesium\"], color = \"green\")\n",
        "#sns.distplot( wine[\"total_phenols\"], color = \"pink\")\n",
        "#sns.distplot( wine[\"flavanoids\"], color = \"purple\")\n",
        "\n",
        "#Conclusion: data is very spread apart, model is not going to work, not good, so scale data in the sense that\n",
        "#they are in the same scale. "
      ],
      "id": "kL_OJ2xXRltr",
      "execution_count": null,
      "outputs": [
        {
          "output_type": "stream",
          "text": [
            "/usr/local/lib/python3.7/dist-packages/seaborn/distributions.py:2557: FutureWarning: `distplot` is a deprecated function and will be removed in a future version. Please adapt your code to use either `displot` (a figure-level function with similar flexibility) or `histplot` (an axes-level function for histograms).\n",
            "  warnings.warn(msg, FutureWarning)\n",
            "/usr/local/lib/python3.7/dist-packages/seaborn/distributions.py:2557: FutureWarning: `distplot` is a deprecated function and will be removed in a future version. Please adapt your code to use either `displot` (a figure-level function with similar flexibility) or `histplot` (an axes-level function for histograms).\n",
            "  warnings.warn(msg, FutureWarning)\n"
          ],
          "name": "stderr"
        },
        {
          "output_type": "execute_result",
          "data": {
            "text/plain": [
              "<matplotlib.axes._subplots.AxesSubplot at 0x7fa33ff6ef50>"
            ]
          },
          "metadata": {
            "tags": []
          },
          "execution_count": 14
        },
        {
          "output_type": "display_data",
          "data": {
            "image/png": "[encoded data removed]",
            "text/plain": [
              "<Figure size 432x288 with 1 Axes>"
            ]
          },
          "metadata": {
            "tags": [],
            "needs_background": "light"
          }
        }
      ]
    },
    {
      "cell_type": "code",
      "metadata": {
        "id": "QROFG6ny4SvY"
      },
      "source": [
        "# Using StandardScaler library\n",
        "#from sklearn.preprocessing import StandardScaler\n",
        "\n",
        "from sklearn.preprocessing import StandardScaler "
      ],
      "id": "QROFG6ny4SvY",
      "execution_count": null,
      "outputs": []
    },
    {
      "cell_type": "code",
      "metadata": {
        "id": "UW1bJ0sV4fu1"
      },
      "source": [
        "# define scaler\n",
        "#scalar = StandardScaler()\n",
        "\n",
        "scalar = StandardScaler()"
      ],
      "id": "UW1bJ0sV4fu1",
      "execution_count": null,
      "outputs": []
    },
    {
      "cell_type": "code",
      "metadata": {
        "id": "y-Y5CnEn4kLv",
        "colab": {
          "base_uri": "https://localhost:8080/"
        },
        "outputId": "7a052d84-cf0a-493c-da10-90ae77be75af"
      },
      "source": [
        "# fit and transform the data\n",
        "#scalar.fit(wine)\n",
        "\n",
        "scalar.fit(wine)"
      ],
      "id": "y-Y5CnEn4kLv",
      "execution_count": null,
      "outputs": [
        {
          "output_type": "execute_result",
          "data": {
            "text/plain": [
              "StandardScaler(copy=True, with_mean=True, with_std=True)"
            ]
          },
          "metadata": {
            "tags": []
          },
          "execution_count": 21
        }
      ]
    },
    {
      "cell_type": "code",
      "metadata": {
        "id": "pkzkcuc4LZip"
      },
      "source": [
        "#scaled_features = scalar.transform(wine)\n",
        "\n",
        "scaled_features = scalar.transform(wine)"
      ],
      "id": "pkzkcuc4LZip",
      "execution_count": null,
      "outputs": []
    },
    {
      "cell_type": "code",
      "metadata": {
        "id": "c50hbwYs8b9c"
      },
      "source": [
        "#scaled_features\n",
        "scaled_features\n",
        "sc_df = pd.DataFrame(scaled_features)"
      ],
      "id": "c50hbwYs8b9c",
      "execution_count": null,
      "outputs": []
    },
    {
      "cell_type": "code",
      "metadata": {
        "colab": {
          "base_uri": "https://localhost:8080/",
          "height": 439
        },
        "id": "zvz0DCKiEFrE",
        "outputId": "a4f07f3a-43f3-48d7-a209-4f2ac4076fd3"
      },
      "source": [
        "#???, put it after the scaled_features\n",
        "sc_df = pd.DataFrame(scaled_features)\n",
        "sc_df = pd.DataFrame(scaled_features)\n",
        "sc_df\n"
      ],
      "id": "zvz0DCKiEFrE",
      "execution_count": null,
      "outputs": [
        {
          "output_type": "execute_result",
          "data": {
            "text/html": [
              "<div>\n",
              "<style scoped>\n",
              "    .dataframe tbody tr th:only-of-type {\n",
              "        vertical-align: middle;\n",
              "    }\n",
              "\n",
              "    .dataframe tbody tr th {\n",
              "        vertical-align: top;\n",
              "    }\n",
              "\n",
              "    .dataframe thead th {\n",
              "        text-align: right;\n",
              "    }\n",
              "</style>\n",
              "<table border=\"1\" class=\"dataframe\">\n",
              "  <thead>\n",
              "    <tr style=\"text-align: right;\">\n",
              "      <th></th>\n",
              "      <th>0</th>\n",
              "      <th>1</th>\n",
              "      <th>2</th>\n",
              "      <th>3</th>\n",
              "      <th>4</th>\n",
              "      <th>5</th>\n",
              "      <th>6</th>\n",
              "      <th>7</th>\n",
              "      <th>8</th>\n",
              "      <th>9</th>\n",
              "      <th>10</th>\n",
              "      <th>11</th>\n",
              "      <th>12</th>\n",
              "      <th>13</th>\n",
              "    </tr>\n",
              "  </thead>\n",
              "  <tbody>\n",
              "    <tr>\n",
              "      <th>0</th>\n",
              "      <td>1.518613</td>\n",
              "      <td>-0.562250</td>\n",
              "      <td>0.232053</td>\n",
              "      <td>-1.169593</td>\n",
              "      <td>1.913905</td>\n",
              "      <td>0.808997</td>\n",
              "      <td>1.034819</td>\n",
              "      <td>-0.659563</td>\n",
              "      <td>1.224884</td>\n",
              "      <td>0.251717</td>\n",
              "      <td>0.362177</td>\n",
              "      <td>1.847920</td>\n",
              "      <td>1.013009</td>\n",
              "      <td>-1.213944</td>\n",
              "    </tr>\n",
              "    <tr>\n",
              "      <th>1</th>\n",
              "      <td>0.246290</td>\n",
              "      <td>-0.499413</td>\n",
              "      <td>-0.827996</td>\n",
              "      <td>-2.490847</td>\n",
              "      <td>0.018145</td>\n",
              "      <td>0.568648</td>\n",
              "      <td>0.733629</td>\n",
              "      <td>-0.820719</td>\n",
              "      <td>-0.544721</td>\n",
              "      <td>-0.293321</td>\n",
              "      <td>0.406051</td>\n",
              "      <td>1.113449</td>\n",
              "      <td>0.965242</td>\n",
              "      <td>-1.213944</td>\n",
              "    </tr>\n",
              "    <tr>\n",
              "      <th>2</th>\n",
              "      <td>0.196879</td>\n",
              "      <td>0.021231</td>\n",
              "      <td>1.109334</td>\n",
              "      <td>-0.268738</td>\n",
              "      <td>0.088358</td>\n",
              "      <td>0.808997</td>\n",
              "      <td>1.215533</td>\n",
              "      <td>-0.498407</td>\n",
              "      <td>2.135968</td>\n",
              "      <td>0.269020</td>\n",
              "      <td>0.318304</td>\n",
              "      <td>0.788587</td>\n",
              "      <td>1.395148</td>\n",
              "      <td>-1.213944</td>\n",
              "    </tr>\n",
              "    <tr>\n",
              "      <th>3</th>\n",
              "      <td>1.691550</td>\n",
              "      <td>-0.346811</td>\n",
              "      <td>0.487926</td>\n",
              "      <td>-0.809251</td>\n",
              "      <td>0.930918</td>\n",
              "      <td>2.491446</td>\n",
              "      <td>1.466525</td>\n",
              "      <td>-0.981875</td>\n",
              "      <td>1.032155</td>\n",
              "      <td>1.186068</td>\n",
              "      <td>-0.427544</td>\n",
              "      <td>1.184071</td>\n",
              "      <td>2.334574</td>\n",
              "      <td>-1.213944</td>\n",
              "    </tr>\n",
              "    <tr>\n",
              "      <th>4</th>\n",
              "      <td>0.295700</td>\n",
              "      <td>0.227694</td>\n",
              "      <td>1.840403</td>\n",
              "      <td>0.451946</td>\n",
              "      <td>1.281985</td>\n",
              "      <td>0.808997</td>\n",
              "      <td>0.663351</td>\n",
              "      <td>0.226796</td>\n",
              "      <td>0.401404</td>\n",
              "      <td>-0.319276</td>\n",
              "      <td>0.362177</td>\n",
              "      <td>0.449601</td>\n",
              "      <td>-0.037874</td>\n",
              "      <td>-1.213944</td>\n",
              "    </tr>\n",
              "    <tr>\n",
              "      <th>...</th>\n",
              "      <td>...</td>\n",
              "      <td>...</td>\n",
              "      <td>...</td>\n",
              "      <td>...</td>\n",
              "      <td>...</td>\n",
              "      <td>...</td>\n",
              "      <td>...</td>\n",
              "      <td>...</td>\n",
              "      <td>...</td>\n",
              "      <td>...</td>\n",
              "      <td>...</td>\n",
              "      <td>...</td>\n",
              "      <td>...</td>\n",
              "      <td>...</td>\n",
              "    </tr>\n",
              "    <tr>\n",
              "      <th>173</th>\n",
              "      <td>0.876275</td>\n",
              "      <td>2.974543</td>\n",
              "      <td>0.305159</td>\n",
              "      <td>0.301803</td>\n",
              "      <td>-0.332922</td>\n",
              "      <td>-0.985614</td>\n",
              "      <td>-1.424900</td>\n",
              "      <td>1.274310</td>\n",
              "      <td>-0.930179</td>\n",
              "      <td>1.142811</td>\n",
              "      <td>-1.392758</td>\n",
              "      <td>-1.231206</td>\n",
              "      <td>-0.021952</td>\n",
              "      <td>1.373864</td>\n",
              "    </tr>\n",
              "    <tr>\n",
              "      <th>174</th>\n",
              "      <td>0.493343</td>\n",
              "      <td>1.412609</td>\n",
              "      <td>0.414820</td>\n",
              "      <td>1.052516</td>\n",
              "      <td>0.158572</td>\n",
              "      <td>-0.793334</td>\n",
              "      <td>-1.284344</td>\n",
              "      <td>0.549108</td>\n",
              "      <td>-0.316950</td>\n",
              "      <td>0.969783</td>\n",
              "      <td>-1.129518</td>\n",
              "      <td>-1.485445</td>\n",
              "      <td>0.009893</td>\n",
              "      <td>1.373864</td>\n",
              "    </tr>\n",
              "    <tr>\n",
              "      <th>175</th>\n",
              "      <td>0.332758</td>\n",
              "      <td>1.744744</td>\n",
              "      <td>-0.389355</td>\n",
              "      <td>0.151661</td>\n",
              "      <td>1.422412</td>\n",
              "      <td>-1.129824</td>\n",
              "      <td>-1.344582</td>\n",
              "      <td>0.549108</td>\n",
              "      <td>-0.422075</td>\n",
              "      <td>2.224236</td>\n",
              "      <td>-1.612125</td>\n",
              "      <td>-1.485445</td>\n",
              "      <td>0.280575</td>\n",
              "      <td>1.373864</td>\n",
              "    </tr>\n",
              "    <tr>\n",
              "      <th>176</th>\n",
              "      <td>0.209232</td>\n",
              "      <td>0.227694</td>\n",
              "      <td>0.012732</td>\n",
              "      <td>0.151661</td>\n",
              "      <td>1.422412</td>\n",
              "      <td>-1.033684</td>\n",
              "      <td>-1.354622</td>\n",
              "      <td>1.354888</td>\n",
              "      <td>-0.229346</td>\n",
              "      <td>1.834923</td>\n",
              "      <td>-1.568252</td>\n",
              "      <td>-1.400699</td>\n",
              "      <td>0.296498</td>\n",
              "      <td>1.373864</td>\n",
              "    </tr>\n",
              "    <tr>\n",
              "      <th>177</th>\n",
              "      <td>1.395086</td>\n",
              "      <td>1.583165</td>\n",
              "      <td>1.365208</td>\n",
              "      <td>1.502943</td>\n",
              "      <td>-0.262708</td>\n",
              "      <td>-0.392751</td>\n",
              "      <td>-1.274305</td>\n",
              "      <td>1.596623</td>\n",
              "      <td>-0.422075</td>\n",
              "      <td>1.791666</td>\n",
              "      <td>-1.524378</td>\n",
              "      <td>-1.428948</td>\n",
              "      <td>-0.595160</td>\n",
              "      <td>1.373864</td>\n",
              "    </tr>\n",
              "  </tbody>\n",
              "</table>\n",
              "<p>178 rows × 14 columns</p>\n",
              "</div>"
            ],
            "text/plain": [
              "           0         1         2   ...        11        12        13\n",
              "0    1.518613 -0.562250  0.232053  ...  1.847920  1.013009 -1.213944\n",
              "1    0.246290 -0.499413 -0.827996  ...  1.113449  0.965242 -1.213944\n",
              "2    0.196879  0.021231  1.109334  ...  0.788587  1.395148 -1.213944\n",
              "3    1.691550 -0.346811  0.487926  ...  1.184071  2.334574 -1.213944\n",
              "4    0.295700  0.227694  1.840403  ...  0.449601 -0.037874 -1.213944\n",
              "..        ...       ...       ...  ...       ...       ...       ...\n",
              "173  0.876275  2.974543  0.305159  ... -1.231206 -0.021952  1.373864\n",
              "174  0.493343  1.412609  0.414820  ... -1.485445  0.009893  1.373864\n",
              "175  0.332758  1.744744 -0.389355  ... -1.485445  0.280575  1.373864\n",
              "176  0.209232  0.227694  0.012732  ... -1.400699  0.296498  1.373864\n",
              "177  1.395086  1.583165  1.365208  ... -1.428948 -0.595160  1.373864\n",
              "\n",
              "[178 rows x 14 columns]"
            ]
          },
          "metadata": {
            "tags": []
          },
          "execution_count": 47
        }
      ]
    },
    {
      "cell_type": "code",
      "metadata": {
        "colab": {
          "base_uri": "https://localhost:8080/",
          "height": 370
        },
        "id": "Z1Ot3kR6Ceog",
        "outputId": "bd4f241b-5f93-42ce-9476-032426246e28"
      },
      "source": [
        "sns.distplot(scaled_features[1] , color=\"skyblue\")\n",
        "sns.distplot(scaled_features[7], color = \"red\")\n"
      ],
      "id": "Z1Ot3kR6Ceog",
      "execution_count": null,
      "outputs": [
        {
          "output_type": "stream",
          "text": [
            "/usr/local/lib/python3.7/dist-packages/seaborn/distributions.py:2557: FutureWarning: `distplot` is a deprecated function and will be removed in a future version. Please adapt your code to use either `displot` (a figure-level function with similar flexibility) or `histplot` (an axes-level function for histograms).\n",
            "  warnings.warn(msg, FutureWarning)\n",
            "/usr/local/lib/python3.7/dist-packages/seaborn/distributions.py:2557: FutureWarning: `distplot` is a deprecated function and will be removed in a future version. Please adapt your code to use either `displot` (a figure-level function with similar flexibility) or `histplot` (an axes-level function for histograms).\n",
            "  warnings.warn(msg, FutureWarning)\n"
          ],
          "name": "stderr"
        },
        {
          "output_type": "execute_result",
          "data": {
            "text/plain": [
              "<matplotlib.axes._subplots.AxesSubplot at 0x7fa33f6e3310>"
            ]
          },
          "metadata": {
            "tags": []
          },
          "execution_count": 50
        },
        {
          "output_type": "display_data",
          "data": {
            "image/png": "[encoded data removed]",
            "text/plain": [
              "<Figure size 432x288 with 1 Axes>"
            ]
          },
          "metadata": {
            "tags": [],
            "needs_background": "light"
          }
        }
      ]
    },
    {
      "cell_type": "markdown",
      "metadata": {
        "id": "bcsc1or5GHZO"
      },
      "source": [
        "**#putting the name ['ash'] and ['flavanoid'] doesn't work so first change the index to numbers"
      ],
      "id": "bcsc1or5GHZO"
    },
    {
      "cell_type": "code",
      "metadata": {
        "colab": {
          "base_uri": "https://localhost:8080/",
          "height": 487
        },
        "id": "xGM_sT14Huve",
        "outputId": "3cb9aa9e-658b-42c1-ac3b-62796950375c"
      },
      "source": [
        "df_feature = pd.DataFrame(scaled_features,columns=wine.columns)\n",
        "sns.distplot(df_feature[\"ash\"] , color=\"skyblue\")\n",
        "sns.distplot( df_feature[\"nonflavanoid_phenols\"] , color=\"red\")\n",
        "sns.distplot( df_feature[\"proanthocyanins\"] , color=\"yellow\")\n",
        "sns.distplot( df_feature[\"flavanoids\"] , color=\"green\")\n",
        "sns.distplot( df_feature[\"total_phenols\"] , color=\"orange\")\n"
      ],
      "id": "xGM_sT14Huve",
      "execution_count": 51,
      "outputs": [
        {
          "output_type": "stream",
          "text": [
            "/usr/local/lib/python3.7/dist-packages/seaborn/distributions.py:2557: FutureWarning: `distplot` is a deprecated function and will be removed in a future version. Please adapt your code to use either `displot` (a figure-level function with similar flexibility) or `histplot` (an axes-level function for histograms).\n",
            "  warnings.warn(msg, FutureWarning)\n",
            "/usr/local/lib/python3.7/dist-packages/seaborn/distributions.py:2557: FutureWarning: `distplot` is a deprecated function and will be removed in a future version. Please adapt your code to use either `displot` (a figure-level function with similar flexibility) or `histplot` (an axes-level function for histograms).\n",
            "  warnings.warn(msg, FutureWarning)\n",
            "/usr/local/lib/python3.7/dist-packages/seaborn/distributions.py:2557: FutureWarning: `distplot` is a deprecated function and will be removed in a future version. Please adapt your code to use either `displot` (a figure-level function with similar flexibility) or `histplot` (an axes-level function for histograms).\n",
            "  warnings.warn(msg, FutureWarning)\n",
            "/usr/local/lib/python3.7/dist-packages/seaborn/distributions.py:2557: FutureWarning: `distplot` is a deprecated function and will be removed in a future version. Please adapt your code to use either `displot` (a figure-level function with similar flexibility) or `histplot` (an axes-level function for histograms).\n",
            "  warnings.warn(msg, FutureWarning)\n",
            "/usr/local/lib/python3.7/dist-packages/seaborn/distributions.py:2557: FutureWarning: `distplot` is a deprecated function and will be removed in a future version. Please adapt your code to use either `displot` (a figure-level function with similar flexibility) or `histplot` (an axes-level function for histograms).\n",
            "  warnings.warn(msg, FutureWarning)\n"
          ],
          "name": "stderr"
        },
        {
          "output_type": "execute_result",
          "data": {
            "text/plain": [
              "<matplotlib.axes._subplots.AxesSubplot at 0x7fa33f5e3850>"
            ]
          },
          "metadata": {
            "tags": []
          },
          "execution_count": 51
        },
        {
          "output_type": "display_data",
          "data": {
            "image/png": "[encoded data removed]",
            "text/plain": [
              "<Figure size 432x288 with 1 Axes>"
            ]
          },
          "metadata": {
            "tags": [],
            "needs_background": "light"
          }
        }
      ]
    },
    {
      "cell_type": "code",
      "metadata": {
        "colab": {
          "base_uri": "https://localhost:8080/",
          "height": 456
        },
        "id": "bt9u2TRsLxF5",
        "outputId": "80ae00ab-3e6a-47a8-8ea2-4ccb81ab6844"
      },
      "source": [
        "#if want to print by column name and not by index numbers \n",
        "sc_df = pd.DataFrame(scaled_features)\n",
        "sc_df\n",
        "sc_df.rename({0: 'alcohol', 1: 'malic_acid', 2:'ash', 3: 'alcalinity_of_ash', 4: 'magnesium', 5: 'total_phenols', \n",
        "6:'flavanoids' ,7: 'nonflavanoid_phenols',8:'proanthocyanins',9: 'color_intensity', 10:'hue',11:'od280 od315_of_diluted_wines', 12: 'proline', 13:'target'}, axis=1, inplace=True)\t\n",
        "\n",
        "sc_df\n"
      ],
      "id": "bt9u2TRsLxF5",
      "execution_count": 58,
      "outputs": [
        {
          "output_type": "execute_result",
          "data": {
            "text/html": [
              "<div>\n",
              "<style scoped>\n",
              "    .dataframe tbody tr th:only-of-type {\n",
              "        vertical-align: middle;\n",
              "    }\n",
              "\n",
              "    .dataframe tbody tr th {\n",
              "        vertical-align: top;\n",
              "    }\n",
              "\n",
              "    .dataframe thead th {\n",
              "        text-align: right;\n",
              "    }\n",
              "</style>\n",
              "<table border=\"1\" class=\"dataframe\">\n",
              "  <thead>\n",
              "    <tr style=\"text-align: right;\">\n",
              "      <th></th>\n",
              "      <th>alcohol</th>\n",
              "      <th>malic_acid</th>\n",
              "      <th>ash</th>\n",
              "      <th>alcalinity_of_ash</th>\n",
              "      <th>magnesium</th>\n",
              "      <th>total_phenols</th>\n",
              "      <th>flavanoids</th>\n",
              "      <th>nonflavanoid_phenols</th>\n",
              "      <th>proanthocyanins</th>\n",
              "      <th>color_intensity</th>\n",
              "      <th>hue</th>\n",
              "      <th>od280 od315_of_diluted_wines</th>\n",
              "      <th>proline</th>\n",
              "      <th>target</th>\n",
              "    </tr>\n",
              "  </thead>\n",
              "  <tbody>\n",
              "    <tr>\n",
              "      <th>0</th>\n",
              "      <td>1.518613</td>\n",
              "      <td>-0.562250</td>\n",
              "      <td>0.232053</td>\n",
              "      <td>-1.169593</td>\n",
              "      <td>1.913905</td>\n",
              "      <td>0.808997</td>\n",
              "      <td>1.034819</td>\n",
              "      <td>-0.659563</td>\n",
              "      <td>1.224884</td>\n",
              "      <td>0.251717</td>\n",
              "      <td>0.362177</td>\n",
              "      <td>1.847920</td>\n",
              "      <td>1.013009</td>\n",
              "      <td>-1.213944</td>\n",
              "    </tr>\n",
              "    <tr>\n",
              "      <th>1</th>\n",
              "      <td>0.246290</td>\n",
              "      <td>-0.499413</td>\n",
              "      <td>-0.827996</td>\n",
              "      <td>-2.490847</td>\n",
              "      <td>0.018145</td>\n",
              "      <td>0.568648</td>\n",
              "      <td>0.733629</td>\n",
              "      <td>-0.820719</td>\n",
              "      <td>-0.544721</td>\n",
              "      <td>-0.293321</td>\n",
              "      <td>0.406051</td>\n",
              "      <td>1.113449</td>\n",
              "      <td>0.965242</td>\n",
              "      <td>-1.213944</td>\n",
              "    </tr>\n",
              "    <tr>\n",
              "      <th>2</th>\n",
              "      <td>0.196879</td>\n",
              "      <td>0.021231</td>\n",
              "      <td>1.109334</td>\n",
              "      <td>-0.268738</td>\n",
              "      <td>0.088358</td>\n",
              "      <td>0.808997</td>\n",
              "      <td>1.215533</td>\n",
              "      <td>-0.498407</td>\n",
              "      <td>2.135968</td>\n",
              "      <td>0.269020</td>\n",
              "      <td>0.318304</td>\n",
              "      <td>0.788587</td>\n",
              "      <td>1.395148</td>\n",
              "      <td>-1.213944</td>\n",
              "    </tr>\n",
              "    <tr>\n",
              "      <th>3</th>\n",
              "      <td>1.691550</td>\n",
              "      <td>-0.346811</td>\n",
              "      <td>0.487926</td>\n",
              "      <td>-0.809251</td>\n",
              "      <td>0.930918</td>\n",
              "      <td>2.491446</td>\n",
              "      <td>1.466525</td>\n",
              "      <td>-0.981875</td>\n",
              "      <td>1.032155</td>\n",
              "      <td>1.186068</td>\n",
              "      <td>-0.427544</td>\n",
              "      <td>1.184071</td>\n",
              "      <td>2.334574</td>\n",
              "      <td>-1.213944</td>\n",
              "    </tr>\n",
              "    <tr>\n",
              "      <th>4</th>\n",
              "      <td>0.295700</td>\n",
              "      <td>0.227694</td>\n",
              "      <td>1.840403</td>\n",
              "      <td>0.451946</td>\n",
              "      <td>1.281985</td>\n",
              "      <td>0.808997</td>\n",
              "      <td>0.663351</td>\n",
              "      <td>0.226796</td>\n",
              "      <td>0.401404</td>\n",
              "      <td>-0.319276</td>\n",
              "      <td>0.362177</td>\n",
              "      <td>0.449601</td>\n",
              "      <td>-0.037874</td>\n",
              "      <td>-1.213944</td>\n",
              "    </tr>\n",
              "    <tr>\n",
              "      <th>...</th>\n",
              "      <td>...</td>\n",
              "      <td>...</td>\n",
              "      <td>...</td>\n",
              "      <td>...</td>\n",
              "      <td>...</td>\n",
              "      <td>...</td>\n",
              "      <td>...</td>\n",
              "      <td>...</td>\n",
              "      <td>...</td>\n",
              "      <td>...</td>\n",
              "      <td>...</td>\n",
              "      <td>...</td>\n",
              "      <td>...</td>\n",
              "      <td>...</td>\n",
              "    </tr>\n",
              "    <tr>\n",
              "      <th>173</th>\n",
              "      <td>0.876275</td>\n",
              "      <td>2.974543</td>\n",
              "      <td>0.305159</td>\n",
              "      <td>0.301803</td>\n",
              "      <td>-0.332922</td>\n",
              "      <td>-0.985614</td>\n",
              "      <td>-1.424900</td>\n",
              "      <td>1.274310</td>\n",
              "      <td>-0.930179</td>\n",
              "      <td>1.142811</td>\n",
              "      <td>-1.392758</td>\n",
              "      <td>-1.231206</td>\n",
              "      <td>-0.021952</td>\n",
              "      <td>1.373864</td>\n",
              "    </tr>\n",
              "    <tr>\n",
              "      <th>174</th>\n",
              "      <td>0.493343</td>\n",
              "      <td>1.412609</td>\n",
              "      <td>0.414820</td>\n",
              "      <td>1.052516</td>\n",
              "      <td>0.158572</td>\n",
              "      <td>-0.793334</td>\n",
              "      <td>-1.284344</td>\n",
              "      <td>0.549108</td>\n",
              "      <td>-0.316950</td>\n",
              "      <td>0.969783</td>\n",
              "      <td>-1.129518</td>\n",
              "      <td>-1.485445</td>\n",
              "      <td>0.009893</td>\n",
              "      <td>1.373864</td>\n",
              "    </tr>\n",
              "    <tr>\n",
              "      <th>175</th>\n",
              "      <td>0.332758</td>\n",
              "      <td>1.744744</td>\n",
              "      <td>-0.389355</td>\n",
              "      <td>0.151661</td>\n",
              "      <td>1.422412</td>\n",
              "      <td>-1.129824</td>\n",
              "      <td>-1.344582</td>\n",
              "      <td>0.549108</td>\n",
              "      <td>-0.422075</td>\n",
              "      <td>2.224236</td>\n",
              "      <td>-1.612125</td>\n",
              "      <td>-1.485445</td>\n",
              "      <td>0.280575</td>\n",
              "      <td>1.373864</td>\n",
              "    </tr>\n",
              "    <tr>\n",
              "      <th>176</th>\n",
              "      <td>0.209232</td>\n",
              "      <td>0.227694</td>\n",
              "      <td>0.012732</td>\n",
              "      <td>0.151661</td>\n",
              "      <td>1.422412</td>\n",
              "      <td>-1.033684</td>\n",
              "      <td>-1.354622</td>\n",
              "      <td>1.354888</td>\n",
              "      <td>-0.229346</td>\n",
              "      <td>1.834923</td>\n",
              "      <td>-1.568252</td>\n",
              "      <td>-1.400699</td>\n",
              "      <td>0.296498</td>\n",
              "      <td>1.373864</td>\n",
              "    </tr>\n",
              "    <tr>\n",
              "      <th>177</th>\n",
              "      <td>1.395086</td>\n",
              "      <td>1.583165</td>\n",
              "      <td>1.365208</td>\n",
              "      <td>1.502943</td>\n",
              "      <td>-0.262708</td>\n",
              "      <td>-0.392751</td>\n",
              "      <td>-1.274305</td>\n",
              "      <td>1.596623</td>\n",
              "      <td>-0.422075</td>\n",
              "      <td>1.791666</td>\n",
              "      <td>-1.524378</td>\n",
              "      <td>-1.428948</td>\n",
              "      <td>-0.595160</td>\n",
              "      <td>1.373864</td>\n",
              "    </tr>\n",
              "  </tbody>\n",
              "</table>\n",
              "<p>178 rows × 14 columns</p>\n",
              "</div>"
            ],
            "text/plain": [
              "      alcohol  malic_acid  ...   proline    target\n",
              "0    1.518613   -0.562250  ...  1.013009 -1.213944\n",
              "1    0.246290   -0.499413  ...  0.965242 -1.213944\n",
              "2    0.196879    0.021231  ...  1.395148 -1.213944\n",
              "3    1.691550   -0.346811  ...  2.334574 -1.213944\n",
              "4    0.295700    0.227694  ... -0.037874 -1.213944\n",
              "..        ...         ...  ...       ...       ...\n",
              "173  0.876275    2.974543  ... -0.021952  1.373864\n",
              "174  0.493343    1.412609  ...  0.009893  1.373864\n",
              "175  0.332758    1.744744  ...  0.280575  1.373864\n",
              "176  0.209232    0.227694  ...  0.296498  1.373864\n",
              "177  1.395086    1.583165  ... -0.595160  1.373864\n",
              "\n",
              "[178 rows x 14 columns]"
            ]
          },
          "metadata": {
            "tags": []
          },
          "execution_count": 58
        }
      ]
    },
    {
      "cell_type": "markdown",
      "metadata": {
        "id": "9c07aee8"
      },
      "source": [
        "#### Splitting Data\n",
        "\n",
        "To understand model performance, dividing the dataset into a training set and a test set is a good strategy.\n",
        "\n",
        "Let's split dataset by using function train_test_split(). You need to pass 3 parameters features, target, and test_set size. Additionally, you can use random_state to select records randomly.\n"
      ],
      "id": "9c07aee8"
    },
    {
      "cell_type": "code",
      "metadata": {
        "id": "b30a8321"
      },
      "source": [
        "# Import train_test_split function\n",
        "from sklearn.model_selection import train_test_split\n",
        "\n",
        "# Split dataset into training set and test set\n",
        "X_train, X_test, y_train, y_test = train_test_split(wine, wine.target, test_size=0.3) # 70% training and 30% test"
      ],
      "id": "b30a8321",
      "execution_count": 52,
      "outputs": []
    },
    {
      "cell_type": "markdown",
      "metadata": {
        "id": "7361e3da"
      },
      "source": [
        "#### Generating Model for K=5\n",
        "\n",
        "Let's build KNN classifier model for k=5.\n"
      ],
      "id": "7361e3da"
    },
    {
      "cell_type": "code",
      "metadata": {
        "id": "6913c46c"
      },
      "source": [
        "#Import knearest neighbors Classifier model\n",
        "from sklearn.neighbors import KNeighborsClassifier\n",
        "\n",
        "#Create KNN Classifier\n",
        "knn = KNeighborsClassifier(n_neighbors=5)\n",
        "\n",
        "#Train the model using the training sets\n",
        "knn.fit(X_train, y_train)\n",
        "\n",
        "#Predict the response for test dataset\n",
        "y_pred = knn.predict(X_test)"
      ],
      "id": "6913c46c",
      "execution_count": 53,
      "outputs": []
    },
    {
      "cell_type": "markdown",
      "metadata": {
        "id": "18af30b7"
      },
      "source": [
        "#### Model Evaluation for k=5\n",
        "\n",
        "Let's estimate, how accurately the classifier or model can predict the type of cultivars.\n",
        "\n",
        "Accuracy can be computed by comparing actual test set values and predicted values.\n"
      ],
      "id": "18af30b7"
    },
    {
      "cell_type": "code",
      "metadata": {
        "id": "cf82e938",
        "colab": {
          "base_uri": "https://localhost:8080/"
        },
        "outputId": "3b4c05d0-cf81-4f40-8949-334c99b20868"
      },
      "source": [
        "#Import scikit-learn metrics module for accuracy calculation\n",
        "from sklearn import metrics\n",
        "\n",
        "# Model Accuracy, how often is the classifier correct?\n",
        "print(\"Accuracy:\",metrics.accuracy_score(y_test, y_pred))"
      ],
      "id": "cf82e938",
      "execution_count": 55,
      "outputs": [
        {
          "output_type": "stream",
          "text": [
            "Accuracy: 0.7592592592592593\n"
          ],
          "name": "stdout"
        }
      ]
    },
    {
      "cell_type": "markdown",
      "metadata": {
        "id": "9h5IfgX8LN5G"
      },
      "source": [
        "The accuracy increased from 61.11% to 75.92% after scaling data. "
      ],
      "id": "9h5IfgX8LN5G"
    },
    {
      "cell_type": "markdown",
      "metadata": {
        "id": "ea5966f9"
      },
      "source": [
        "Well, you got a classification rate of 61.11%, considered as good accuracy.\n",
        "\n",
        "For further evaluation, you can also create a model for a different number of neighbors.\n",
        "\n",
        "#### Re-generating Model for K=2\n",
        "\n",
        "Let's build KNN classifier model for k=2.\n"
      ],
      "id": "ea5966f9"
    },
    {
      "cell_type": "code",
      "metadata": {
        "id": "e2286c4e"
      },
      "source": [
        "#Import knearest neighbors Classifier model\n",
        "from sklearn.neighbors import KNeighborsClassifier\n",
        "\n",
        "#Create KNN Classifier\n",
        "knn = KNeighborsClassifier(n_neighbors=2)\n",
        "\n",
        "#Train the model using the training sets\n",
        "knn.fit(X_train, y_train)\n",
        "\n",
        "#Predict the response for test dataset\n",
        "y_pred = knn.predict(X_test)"
      ],
      "id": "e2286c4e",
      "execution_count": 56,
      "outputs": []
    },
    {
      "cell_type": "markdown",
      "metadata": {
        "id": "b937226a"
      },
      "source": [
        "#### Model Evaluation for k=2\n",
        "\n",
        "Let's again estimate, how accurately the classifier or model can predict the type of cultivars for k=2.\n"
      ],
      "id": "b937226a"
    },
    {
      "cell_type": "code",
      "metadata": {
        "id": "e16b536b",
        "colab": {
          "base_uri": "https://localhost:8080/"
        },
        "outputId": "7b81e2a0-958b-4b1b-8d77-d8d5d4a5851d"
      },
      "source": [
        "#Import scikit-learn metrics module for accuracy calculation\n",
        "from sklearn import metrics\n",
        "\n",
        "# Model Accuracy, how often is the classifier correct?\n",
        "print(\"Accuracy:\",metrics.accuracy_score(y_test, y_pred))"
      ],
      "id": "e16b536b",
      "execution_count": 57,
      "outputs": [
        {
          "output_type": "stream",
          "text": [
            "Accuracy: 0.7037037037037037\n"
          ],
          "name": "stdout"
        }
      ]
    },
    {
      "cell_type": "markdown",
      "metadata": {
        "id": "RBjc7TdTKa_B"
      },
      "source": [
        "**After using the scaled data, the accuracy increased from around 68.51% to 70.37% which is a good accuracy. However, k=2 is not as accurate as k=5. "
      ],
      "id": "RBjc7TdTKa_B"
    },
    {
      "cell_type": "markdown",
      "metadata": {
        "id": "4fddbbb8"
      },
      "source": [
        "Well, you got a classification rate of 68.51%, considered as good accuracy.\n",
        "\n",
        "Here, you have increased the number of neighbors in the model and accuracy got increased. But, this is not necessary for each case that an increase in many neighbors increases the accuracy. For a more detailed understanding of it, you can refer section \"How to decide the number of neighbors?\" of this tutorial.\n",
        "\n",
        "## Pros\n",
        "\n",
        "The training phase of K-nearest neighbor classification is much faster compared to other classification algorithms. There is no need to train a model for generalization, That is why KNN is known as the simple and instance-based learning algorithm. KNN can be useful in case of nonlinear data. It can be used with the regression problem. Output value for the object is computed by the average of k closest neighbors value.\n",
        "\n",
        "## Cons\n",
        "\n",
        "The testing phase of K-nearest neighbor classification is slower and costlier in terms of time and memory. It requires large memory for storing the entire training dataset for prediction. KNN requires scaling of data because KNN uses the Euclidean distance between two data points to find nearest neighbors. Euclidean distance is sensitive to magnitudes. The features with high magnitudes will weight more than features with low magnitudes. KNN also not suitable for large dimensional data.\n",
        "\n",
        "## How to improve KNN?\n",
        "\n",
        "For better results, normalizing data on the same scale is highly recommended. Generally, the normalization range considered between 0 and 1. KNN is not suitable for the large dimensional data. In such cases, dimension needs to reduce to improve the performance. Also, handling missing values will help us in improving results.\n",
        "\n",
        "## Conclusion\n",
        "\n",
        "Congratulations, you have made it to the end of this tutorial!\n",
        "\n",
        "In this tutorial, you have learned the K-Nearest Neighbor algorithm; it's working, eager and lazy learner, the curse of dimensionality, model building and evaluation on wine dataset using Python Scikit-learn package. Also, discussed its advantages, disadvantages, and performance improvement suggestions.\n",
        "\n",
        "I look forward to hearing any feedback or questions. You can ask questions by leaving a comment, and I will try my best to answer it."
      ],
      "id": "4fddbbb8"
    },
    {
      "cell_type": "code",
      "metadata": {
        "id": "x9Jv6_uwXqHp"
      },
      "source": [
        ""
      ],
      "id": "x9Jv6_uwXqHp",
      "execution_count": null,
      "outputs": []
    },
    {
      "cell_type": "markdown",
      "metadata": {
        "id": "gk3NPPt2X-Qa"
      },
      "source": [
        "for the values of K=1 TO 40 PLOT the Testing Accuracy' vs K value\n",
        "\n",
        "1.   PLOT the Testing Accuracy' vs value of K \n",
        "2.   Plot Errorrate vs value of K\n",
        "\n"
      ],
      "id": "gk3NPPt2X-Qa"
    },
    {
      "cell_type": "markdown",
      "metadata": {
        "id": "a1AnfId0OZw3"
      },
      "source": [
        "I changed it to 50 because professor said best to have range from 50-60. Too much will make the run time much slower. "
      ],
      "id": "a1AnfId0OZw3"
    },
    {
      "cell_type": "code",
      "metadata": {
        "id": "HINrlMV9LiXr"
      },
      "source": [
        "from sklearn import metrics "
      ],
      "id": "HINrlMV9LiXr",
      "execution_count": 60,
      "outputs": []
    },
    {
      "cell_type": "code",
      "metadata": {
        "id": "rmDfY1exLk6x"
      },
      "source": [
        "scr = []"
      ],
      "id": "rmDfY1exLk6x",
      "execution_count": 61,
      "outputs": []
    },
    {
      "cell_type": "code",
      "metadata": {
        "colab": {
          "base_uri": "https://localhost:8080/"
        },
        "id": "LvNe-3Y1LmxM",
        "outputId": "b93c0640-b2f6-4bc4-83a3-34e0af118d2d"
      },
      "source": [
        "for i in range(1,51): \n",
        "  knn = KNeighborsClassifier(n_neighbors=i)\n",
        "  knn.fit(X_train, y_train)\n",
        "  y_pred = knn.predict(X_test)\n",
        "  scr.append(metrics.accuracy_score(y_test, y_pred))\n",
        "\n",
        "print(scr)"
      ],
      "id": "LvNe-3Y1LmxM",
      "execution_count": 62,
      "outputs": [
        {
          "output_type": "stream",
          "text": [
            "[0.7962962962962963, 0.7037037037037037, 0.8148148148148148, 0.7592592592592593, 0.7592592592592593, 0.7592592592592593, 0.7592592592592593, 0.7777777777777778, 0.7592592592592593, 0.7222222222222222, 0.7592592592592593, 0.7407407407407407, 0.7592592592592593, 0.7407407407407407, 0.7407407407407407, 0.7222222222222222, 0.7407407407407407, 0.7407407407407407, 0.7407407407407407, 0.7592592592592593, 0.7407407407407407, 0.7407407407407407, 0.7407407407407407, 0.7407407407407407, 0.7592592592592593, 0.7407407407407407, 0.7407407407407407, 0.7407407407407407, 0.7222222222222222, 0.7222222222222222, 0.7222222222222222, 0.7222222222222222, 0.7407407407407407, 0.7037037037037037, 0.7222222222222222, 0.7037037037037037, 0.7037037037037037, 0.7037037037037037, 0.7037037037037037, 0.7037037037037037, 0.7037037037037037, 0.7222222222222222, 0.7037037037037037, 0.7037037037037037, 0.7222222222222222, 0.7222222222222222, 0.7222222222222222, 0.7222222222222222, 0.7222222222222222, 0.7222222222222222]\n"
          ],
          "name": "stdout"
        }
      ]
    },
    {
      "cell_type": "code",
      "metadata": {
        "colab": {
          "base_uri": "https://localhost:8080/",
          "height": 354
        },
        "id": "didTzahfN2wk",
        "outputId": "9c4eea26-323d-47c5-85c6-d165315ca734"
      },
      "source": [
        "plt.figure(figsize=(19,6))\n",
        "plt.plot(range(1,51), scr, color='blue', linestyle='dashed',\n",
        "         marker='o', markerfacecolor='red', markersize=10)\n",
        "plt.xlabel('Value of K for KNN')\n",
        "plt.ylabel('Testing Accuracy')"
      ],
      "id": "didTzahfN2wk",
      "execution_count": 68,
      "outputs": [
        {
          "output_type": "execute_result",
          "data": {
            "text/plain": [
              "Text(0, 0.5, 'Testing Accuracy')"
            ]
          },
          "metadata": {
            "tags": []
          },
          "execution_count": 68
        },
        {
          "output_type": "display_data",
          "data": {
            "image/png": "[encoded data removed]",
            "text/plain": [
              "<Figure size 1368x432 with 1 Axes>"
            ]
          },
          "metadata": {
            "tags": [],
            "needs_background": "light"
          }
        }
      ]
    }
  ]
}