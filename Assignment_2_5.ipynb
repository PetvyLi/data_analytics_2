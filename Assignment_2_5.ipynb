{
  "nbformat": 4,
  "nbformat_minor": 0,
  "metadata": {
    "colab": {
      "name": "Assignment_2.5.ipynb",
      "provenance": [],
      "authorship_tag": "ABX9TyNT7gWID+dRdjc90bPlFIRK",
      "include_colab_link": true
    },
    "kernelspec": {
      "name": "python3",
      "display_name": "Python 3"
    },
    "language_info": {
      "name": "python"
    }
  },
  "cells": [
    {
      "cell_type": "markdown",
      "metadata": {
        "id": "view-in-github",
        "colab_type": "text"
      },
      "source": [
        "<a href=\"https://colab.research.google.com/github/PetvyLi/data_analytics_2/blob/main/Assignment_2_5.ipynb\" target=\"_parent\"><img src=\"https://colab.research.google.com/assets/colab-badge.svg\" alt=\"Open In Colab\"/></a>"
      ]
    },
    {
      "cell_type": "code",
      "metadata": {
        "colab": {
          "base_uri": "https://localhost:8080/"
        },
        "id": "th1xrptAwOKO",
        "outputId": "1e30208b-1c96-415e-8c92-a16128d691ba"
      },
      "source": [
        "#Make a list of 5 or more usernames, including an admin account.  Imagine you are writing code that will welcome people to your application on login. Loop through the list and print your greeting.\n",
        "#If the admin account logs in, give them a special greeting.  They’re the admin, after all!\n",
        "#Other users can get the generic greeting\n",
        "usernames = [\"John23\", \"Sarah64\", \"Bob98\", \"James20\", \"Admin\"]\n",
        "for name in usernames: \n",
        "  if name==\"Admin\":\n",
        "    print(\"Welcome Admin! Have a wonderful day :)\", name)\n",
        "  else:\n",
        "    print(\"Welcome to the application.\", name)\n",
        "\n",
        "\n",
        "#Store numbers 1-10 in a list\n",
        "#Loop through the list\n",
        "#Use an if-elif-else chain inside your loop to print the ordinal ending for each number – for example – 1st, 2nd, 3rd … etc.\n",
        "       \n",
        "numbers=[1,2,3,4,5,6,7,8,9,10]\n",
        "for x in numbers:\n",
        "    if x==1:\n",
        "        print(str(x)+\"st\")\n",
        "    elif x==2:\n",
        "        print(str(x)+ \"nd\")\n",
        "    elif x==3:\n",
        "        print(str(x)+ \"rd\")\n",
        "    else:\n",
        "        print(str(x)+ \"th\")  \n"
      ],
      "execution_count": 8,
      "outputs": [
        {
          "output_type": "stream",
          "text": [
            "Welcome to the application. John23\n",
            "Welcome to the application. Sarah64\n",
            "Welcome to the application. Bob98\n",
            "Welcome to the application. James20\n",
            "Welcome Admin! Have a wonderful day :) Admin\n",
            "1st\n",
            "2nd\n",
            "3rd\n",
            "4th\n",
            "5th\n",
            "6th\n",
            "7th\n",
            "8th\n",
            "9th\n",
            "10th\n"
          ],
          "name": "stdout"
        }
      ]
    }
  ]
}