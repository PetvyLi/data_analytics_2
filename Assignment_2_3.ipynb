{
  "nbformat": 4,
  "nbformat_minor": 0,
  "metadata": {
    "colab": {
      "name": "Assignment_2.3.ipynb",
      "provenance": [],
      "authorship_tag": "ABX9TyMgOkDfvC009DWiGmbKPC7/",
      "include_colab_link": true
    },
    "kernelspec": {
      "name": "python3",
      "display_name": "Python 3"
    },
    "language_info": {
      "name": "python"
    }
  },
  "cells": [
    {
      "cell_type": "markdown",
      "metadata": {
        "id": "view-in-github",
        "colab_type": "text"
      },
      "source": [
        "<a href=\"https://colab.research.google.com/github/PetvyLi/data_analytics_2/blob/main/Assignment_2_3.ipynb\" target=\"_parent\"><img src=\"https://colab.research.google.com/assets/colab-badge.svg\" alt=\"Open In Colab\"/></a>"
      ]
    },
    {
      "cell_type": "code",
      "metadata": {
        "colab": {
          "base_uri": "https://localhost:8080/"
        },
        "id": "ILqiZvGqtn9D",
        "outputId": "78f62c8c-3000-4ec4-e1d6-607f24bf5ac4"
      },
      "source": [
        "#Create a list of 5 of your favorite tv shows.  \n",
        "tvshows= [\"Jeopardy\", \"Wheel of Fortune\", \"Game of Thrones\", \"Breaking Bad\", \"Lost\"]\n",
        "\n",
        "\n",
        "#Print the list in its original order.\n",
        "print(tvshows)\n",
        "\n",
        "#Use the sorted() function to print the list in alphabetical order.  How is sorted() different from sort()?\n",
        "print(sorted(tvshows))\n",
        "#-sorted()  is in alphabetical order.\n",
        "\n",
        "\n",
        "#Print out your original list.\n",
        "tvshows= [\"Jeopardy\", \"Wheel of Fortune\", \"Game of Thrones\", \"Breaking Bad\", \"Lost\"]\n",
        "print(tvshows)\n",
        "\n",
        "\n",
        "#Used sorted() to print your list in reverse alphabetical order.\n",
        "tvshows=[\"Jeopardy\", \"Wheel of Fortune\", \"Game of Thrones\", \"Breaking Bad\", \"Lost\"]\n",
        "tvshows.sort(reverse=True)\n",
        "print(tvshows)\n",
        "\n",
        "#Create a message indicating how many favorite TV shows you have – use the len() function.\n",
        "print(\"I have\", len(tvshows), \"favorite shows!\")\n"
      ],
      "execution_count": 5,
      "outputs": [
        {
          "output_type": "stream",
          "text": [
            "['Jeopardy', 'Wheel of Fortune', 'Game of Thrones', 'Breaking Bad', 'Lost']\n",
            "['Breaking Bad', 'Game of Thrones', 'Jeopardy', 'Lost', 'Wheel of Fortune']\n",
            "['Jeopardy', 'Wheel of Fortune', 'Game of Thrones', 'Breaking Bad', 'Lost']\n",
            "['Wheel of Fortune', 'Lost', 'Jeopardy', 'Game of Thrones', 'Breaking Bad']\n",
            "I have 5 favorite shows!\n"
          ],
          "name": "stdout"
        }
      ]
    }
  ]
}