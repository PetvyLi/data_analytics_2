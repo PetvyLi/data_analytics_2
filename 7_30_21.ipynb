{
  "nbformat": 4,
  "nbformat_minor": 0,
  "metadata": {
    "colab": {
      "name": "7.30.21.ipynb",
      "provenance": [],
      "authorship_tag": "ABX9TyOLsHVSb2HRGDn90hI9KgEm",
      "include_colab_link": true
    },
    "kernelspec": {
      "name": "python3",
      "display_name": "Python 3"
    },
    "language_info": {
      "name": "python"
    }
  },
  "cells": [
    {
      "cell_type": "markdown",
      "metadata": {
        "id": "view-in-github",
        "colab_type": "text"
      },
      "source": [
        "<a href=\"https://colab.research.google.com/github/PetvyLi/data_analytics_2/blob/main/7_30_21.ipynb\" target=\"_parent\"><img src=\"https://colab.research.google.com/assets/colab-badge.svg\" alt=\"Open In Colab\"/></a>"
      ]
    },
    {
      "cell_type": "code",
      "metadata": {
        "colab": {
          "base_uri": "https://localhost:8080/"
        },
        "id": "zXu2Qebcn-MC",
        "outputId": "67af716e-88ba-4f0e-f03c-328433636352"
      },
      "source": [
        "#DICTIONARIES \n",
        "{}"
      ],
      "execution_count": null,
      "outputs": [
        {
          "output_type": "execute_result",
          "data": {
            "text/plain": [
              "{}"
            ]
          },
          "metadata": {
            "tags": []
          },
          "execution_count": 12
        }
      ]
    },
    {
      "cell_type": "code",
      "metadata": {
        "colab": {
          "base_uri": "https://localhost:8080/"
        },
        "id": "LelaLdRemFg0",
        "outputId": "ade8e2c2-4830-4dd1-9025-0c8049ddb60e"
      },
      "source": [
        "#ACCESSING VALUES \n",
        "patient_1 = {'first_name': 'John', 'last_name': 'Kimble'}\n",
        "print(patient_1['first_name'])\n",
        "print(patient_1['last_name'])"
      ],
      "execution_count": null,
      "outputs": [
        {
          "output_type": "stream",
          "text": [
            "John\n",
            "Kimble\n"
          ],
          "name": "stdout"
        }
      ]
    },
    {
      "cell_type": "code",
      "metadata": {
        "colab": {
          "base_uri": "https://localhost:8080/"
        },
        "id": "vht6ooZDmxNX",
        "outputId": "682bd838-d6c4-4e98-96ca-ae5eaa106284"
      },
      "source": [
        "#ACCESSING DICTIONARIES \n",
        "patient_name = patient_1['first_name']\n",
        "print(\"Hello there, \" + patient_name)"
      ],
      "execution_count": null,
      "outputs": [
        {
          "output_type": "stream",
          "text": [
            "Hello there, John\n"
          ],
          "name": "stdout"
        }
      ]
    },
    {
      "cell_type": "code",
      "metadata": {
        "colab": {
          "base_uri": "https://localhost:8080/"
        },
        "id": "zygoYufUnGNp",
        "outputId": "84906723-41a9-469e-dbc1-d97d674b102b"
      },
      "source": [
        "#NEW KEY VALUE PAIRS \n",
        "#can also add new value pairs to previous dictionaries \n",
        "patient_1['MRN'] = '000000000'\n",
        "patient_1['Last_exam'] = 'echo'\n",
        "\n",
        "patient_1 #if you print out patient name, it executes \n",
        "          #all the values of the dictionary"
      ],
      "execution_count": null,
      "outputs": [
        {
          "output_type": "execute_result",
          "data": {
            "text/plain": [
              "{'Last_exam': 'echo',\n",
              " 'MRN': '000000000',\n",
              " 'first_name': 'John',\n",
              " 'last_name': 'Kimble'}"
            ]
          },
          "metadata": {
            "tags": []
          },
          "execution_count": 10
        }
      ]
    },
    {
      "cell_type": "code",
      "metadata": {
        "colab": {
          "base_uri": "https://localhost:8080/"
        },
        "id": "-ugYxxmonkgu",
        "outputId": "03fcb37b-0115-4ddd-fa89-ba7218ca0951"
      },
      "source": [
        "#STARTING WITH AN EMPTY DICTIONARY \n",
        "#1st define a dictionary \n",
        "patient_2 = {}\n",
        "#2nd - add each key-value pair on it's own line \n",
        "patient_2['first_name'] = 'Jean'\n",
        "patient_2['last_name'] = 'picard'\n",
        "print(patient_2)\n"
      ],
      "execution_count": null,
      "outputs": [
        {
          "output_type": "stream",
          "text": [
            "{'first_name': 'Jean', 'last_name': 'picard'}\n"
          ],
          "name": "stdout"
        }
      ]
    },
    {
      "cell_type": "code",
      "metadata": {
        "colab": {
          "base_uri": "https://localhost:8080/"
        },
        "id": "1RdkVL9ZoRYC",
        "outputId": "f29f2513-fb8f-4254-965c-57ac59ad4358"
      },
      "source": [
        "#PRACTICE \n",
        "food = {}\n",
        "food['first_word'] = 'green'\n",
        "food['last_word'] = 'tea'\n",
        "print(food)"
      ],
      "execution_count": null,
      "outputs": [
        {
          "output_type": "stream",
          "text": [
            "{'first_word': 'green', 'last_word': 'tea'}\n"
          ],
          "name": "stdout"
        }
      ]
    },
    {
      "cell_type": "code",
      "metadata": {
        "colab": {
          "base_uri": "https://localhost:8080/"
        },
        "id": "w_TpspiBonDF",
        "outputId": "852402c9-3334-4b57-fa6e-1e8802dca797"
      },
      "source": [
        "#REMOVING KEY-VALUE PAIRS\n",
        "del patient_2['first_name']\n",
        "print(patient_2)"
      ],
      "execution_count": null,
      "outputs": [
        {
          "output_type": "stream",
          "text": [
            "{'last_name': 'picard'}\n"
          ],
          "name": "stdout"
        }
      ]
    },
    {
      "cell_type": "code",
      "metadata": {
        "colab": {
          "base_uri": "https://localhost:8080/"
        },
        "id": "VwqLhVtro13q",
        "outputId": "170d2770-567c-43ae-c213-25899c03545d"
      },
      "source": [
        "#Dictionary - store patient 3 info\n",
        "patient_3 = {\n",
        "    'name': 'jack',\n",
        "    'last_name': 'sparrow', \n",
        "    'mrn': '001234567',\n",
        "    'dob': '02231845'\n",
        "}\n",
        "print(patient_3)"
      ],
      "execution_count": null,
      "outputs": [
        {
          "output_type": "stream",
          "text": [
            "{'name': 'jack', 'last_name': 'sparrow', 'mrn': '001234567', 'dob': '02231845'}\n"
          ],
          "name": "stdout"
        }
      ]
    },
    {
      "cell_type": "code",
      "metadata": {
        "colab": {
          "base_uri": "https://localhost:8080/"
        },
        "id": "3jxbPW9Ypnej",
        "outputId": "13b2e739-9c78-4fde-f349-8c6382d51a03"
      },
      "source": [
        "#Access elements of dictionary\n",
        "print(\"Patient_3's DOB is \" + patient_3['dob'])"
      ],
      "execution_count": null,
      "outputs": [
        {
          "output_type": "stream",
          "text": [
            "Patient_3's DOB is 02231845\n"
          ],
          "name": "stdout"
        }
      ]
    },
    {
      "cell_type": "code",
      "metadata": {
        "colab": {
          "base_uri": "https://localhost:8080/"
        },
        "id": "7RdLJxkipwQG",
        "outputId": "1acbf040-f2fb-4c78-a0b2-c0e8404dd920"
      },
      "source": [
        "#YOUR TURN QUESTION 1\n",
        "someone = {\n",
        "    'name': 'anonymous',\n",
        "    'last_name': 'bosch',\n",
        "    'age': '97',\n",
        "    'city': 'nyc',\n",
        "    'info': 'wrote a bestselling series'\n",
        "}\n",
        "print(someone)"
      ],
      "execution_count": null,
      "outputs": [
        {
          "output_type": "stream",
          "text": [
            "{'name': 'anonymous', 'last_name': 'bosch', 'age': '97', 'city': 'nyc', 'info': 'wrote a bestselling series'}\n"
          ],
          "name": "stdout"
        }
      ]
    },
    {
      "cell_type": "code",
      "metadata": {
        "colab": {
          "base_uri": "https://localhost:8080/"
        },
        "id": "MOpTYr4FqO0Y",
        "outputId": "f3b8a0c7-c32e-4af6-ed29-bddb7039bd86"
      },
      "source": [
        "#YOUR TURN Question 2 \n",
        "person_1 = {'first_name': 'Apple', 'last_name': 'Sauce', 'age': '95'}\n",
        "print(person_1['first_name'])\n",
        "print(person_1['last_name'])\n",
        "print(person_1['age'])\n",
        "person_2 = {'first_name': 'Banana', 'last_name':'Toffee','age': '96'}\n",
        "print(person_2['first_name'])\n",
        "print(person_2['last_name'])\n",
        "print(person_2['age'])"
      ],
      "execution_count": null,
      "outputs": [
        {
          "output_type": "stream",
          "text": [
            "Apple\n",
            "Sauce\n",
            "95\n",
            "Banana\n",
            "Toffee\n",
            "96\n"
          ],
          "name": "stdout"
        }
      ]
    },
    {
      "cell_type": "code",
      "metadata": {
        "colab": {
          "base_uri": "https://localhost:8080/"
        },
        "id": "f_mClLcirrJ3",
        "outputId": "67ae16f0-481f-44bc-c164-0579c0fb4109"
      },
      "source": [
        "#YOUR TURN Question 3 \n",
        "glossary_1 = {'word': 'tuple', 'definition': 'collection which is ordered and unchangeable, allows duplicates'}\n",
        "print(glossary_1['word'])\n",
        "print(glossary_1['definition'])\n",
        "glossary_1['list'] = 'collection which is ordered and changeable, allow duplicates'\n",
        "glossary_1['dictionary'] = 'collection which is unordered and changeable, no duplicates'\n",
        "\n",
        "glossary_1"
      ],
      "execution_count": null,
      "outputs": [
        {
          "output_type": "stream",
          "text": [
            "tuple\n",
            "collection which is ordered and unchangeable, allows duplicates\n"
          ],
          "name": "stdout"
        },
        {
          "output_type": "execute_result",
          "data": {
            "text/plain": [
              "{'definition': 'collection which is ordered and unchangeable, allows duplicates',\n",
              " 'dictionary': 'collection which is unordered and changeable, no duplicates',\n",
              " 'list': 'collection which is ordered and changeable, allow duplicates',\n",
              " 'word': 'tuple'}"
            ]
          },
          "metadata": {
            "tags": []
          },
          "execution_count": 28
        }
      ]
    },
    {
      "cell_type": "code",
      "metadata": {
        "colab": {
          "base_uri": "https://localhost:8080/"
        },
        "id": "0sL7kSIruy18",
        "outputId": "9a0143b5-d0f0-4f03-c29c-af7b3c44776c"
      },
      "source": [
        "#LOOPING \n",
        "patient_3 = {       #dictionary\n",
        "  'name': 'jack',  #key is name, value is jack \n",
        "  'last_name': 'sparrow', #key is last name, value is sparrow\n",
        "  'mrn': '001234567', \n",
        "  'dob': '02231845'\n",
        "}\n",
        "\n",
        "for key, value in patient_3.items():\n",
        "    print(\"\\nKey: \" + key)\n",
        "    print(\"\\nValue: \" + value)"
      ],
      "execution_count": null,
      "outputs": [
        {
          "output_type": "stream",
          "text": [
            "\n",
            "Key: name\n",
            "\n",
            "Value: jack\n",
            "\n",
            "Key: last_name\n",
            "\n",
            "Value: sparrow\n",
            "\n",
            "Key: mrn\n",
            "\n",
            "Value: 001234567\n",
            "\n",
            "Key: dob\n",
            "\n",
            "Value: 02231845\n"
          ],
          "name": "stdout"
        }
      ]
    },
    {
      "cell_type": "code",
      "metadata": {
        "colab": {
          "base_uri": "https://localhost:8080/"
        },
        "id": "KYGbvPoWvZZj",
        "outputId": "9b8d6389-4633-446a-877d-5037fc8b262f"
      },
      "source": [
        "author_1 = {       \n",
        "  'name': 'anonymous',   \n",
        "  'last_name': 'bosch', \n",
        "  'mrn': '001234567', \n",
        "  'dob': '777777777'\n",
        "}\n",
        "\n",
        "for key, value in author_1.items():\n",
        "    print(\"\\nKey: \" + key)\n",
        "    print(\"\\nValue: \" + value)"
      ],
      "execution_count": null,
      "outputs": [
        {
          "output_type": "stream",
          "text": [
            "\n",
            "Key: name\n",
            "\n",
            "Value: anonymous\n",
            "\n",
            "Key: last_name\n",
            "\n",
            "Value: bosch\n",
            "\n",
            "Key: mrn\n",
            "\n",
            "Value: 001234567\n",
            "\n",
            "Key: dob\n",
            "\n",
            "Value: 777777777\n"
          ],
          "name": "stdout"
        }
      ]
    },
    {
      "cell_type": "code",
      "metadata": {
        "colab": {
          "base_uri": "https://localhost:8080/"
        },
        "id": "moKryOvPvsf_",
        "outputId": "36728727-be1b-4c0e-d54f-20b5b6ed5b4f"
      },
      "source": [
        "#KEYS ONLY - create new dictionary to work with keys \n",
        "friends_ages = {\n",
        "    'nick': '30', \n",
        "    'amanda': '34', \n",
        "    'john': '36', \n",
        "    'haley': '26'\n",
        "}\n",
        "\n",
        "fav_friends = ['nick', 'amanda']\n",
        "for name in friends_ages.keys():\n",
        "    print(name.title())\n",
        "\n",
        "    if name in fav_friends: \n",
        "        print(\"Hi \" + name.title() + \", I see you're \" + \n",
        "              friends_ages[name])\n",
        "#first print will be first name of Nick, \n",
        "#if statement after print, same block, meaning if name in \n",
        "#fav friends has Nick listed, print his name and his age \n",
        "#same goes for Amanda "
      ],
      "execution_count": null,
      "outputs": [
        {
          "output_type": "stream",
          "text": [
            "Nick\n",
            "Hi Nick, I see you're 30\n",
            "Amanda\n",
            "Hi Amanda, I see you're 34\n",
            "John\n",
            "Haley\n"
          ],
          "name": "stdout"
        }
      ]
    },
    {
      "cell_type": "code",
      "metadata": {
        "colab": {
          "base_uri": "https://localhost:8080/"
        },
        "id": "_UKO4X2Ix0n8",
        "outputId": "62d4c610-cd0e-4b6e-d3ac-856363e4c191"
      },
      "source": [
        "#TRY MYSELF \n",
        "friends_ages = {\n",
        "    'nick': '30', \n",
        "    'amanda': '34', \n",
        "    'john': '36', \n",
        "    'haley': '26'\n",
        "}\n",
        "\n",
        "fav_friends = ['petvy']\n",
        "for name in friends_ages.keys():\n",
        "    print(name.title())\n",
        "\n",
        "    if name in fav_friends: \n",
        "        print(\"Hi \" + name.title() + \", I see you're \" + \n",
        "              friends_ages[name])"
      ],
      "execution_count": null,
      "outputs": [
        {
          "output_type": "stream",
          "text": [
            "Nick\n",
            "Amanda\n",
            "John\n",
            "Haley\n"
          ],
          "name": "stdout"
        }
      ]
    },
    {
      "cell_type": "code",
      "metadata": {
        "colab": {
          "base_uri": "https://localhost:8080/"
        },
        "id": "jiMQz4rpy_fz",
        "outputId": "77aacc30-4d04-4bd5-9cbf-6d3bce70bc0c"
      },
      "source": [
        "#WHILE LOOPS \n",
        "number = 1\n",
        "while number <= 5: \n",
        "    print(number)\n",
        "    number += 1 "
      ],
      "execution_count": null,
      "outputs": [
        {
          "output_type": "stream",
          "text": [
            "1\n",
            "2\n",
            "3\n",
            "4\n",
            "5\n"
          ],
          "name": "stdout"
        }
      ]
    },
    {
      "cell_type": "code",
      "metadata": {
        "colab": {
          "base_uri": "https://localhost:8080/"
        },
        "id": "ajZGqfmCzIq_",
        "outputId": "dec5e5f3-0978-41be-a190-83d6a57ef570"
      },
      "source": [
        "#TRY MYSELF \n",
        "number = 7 \n",
        "while number <= 7: \n",
        "    print(number)\n",
        "    number += 1"
      ],
      "execution_count": null,
      "outputs": [
        {
          "output_type": "stream",
          "text": [
            "7\n"
          ],
          "name": "stdout"
        }
      ]
    },
    {
      "cell_type": "code",
      "metadata": {
        "colab": {
          "base_uri": "https://localhost:8080/",
          "height": 647
        },
        "id": "5hGEQuVQzr9C",
        "outputId": "4eeab569-6bbf-4cd8-ddf0-20394b5464cb"
      },
      "source": [
        "#USER INPUT \n",
        "#create a variable and let it equal to the input \n",
        "message = input(\"Please enter your name\")\n",
        "print(message)"
      ],
      "execution_count": null,
      "outputs": [
        {
          "output_type": "error",
          "ename": "KeyboardInterrupt",
          "evalue": "ignored",
          "traceback": [
            "\u001b[0;31m---------------------------------------------------------------------------\u001b[0m",
            "\u001b[0;31mKeyboardInterrupt\u001b[0m                         Traceback (most recent call last)",
            "\u001b[0;32m/usr/local/lib/python3.7/dist-packages/ipykernel/kernelbase.py\u001b[0m in \u001b[0;36m_input_request\u001b[0;34m(self, prompt, ident, parent, password)\u001b[0m\n\u001b[1;32m    728\u001b[0m             \u001b[0;32mtry\u001b[0m\u001b[0;34m:\u001b[0m\u001b[0;34m\u001b[0m\u001b[0;34m\u001b[0m\u001b[0m\n\u001b[0;32m--> 729\u001b[0;31m                 \u001b[0mident\u001b[0m\u001b[0;34m,\u001b[0m \u001b[0mreply\u001b[0m \u001b[0;34m=\u001b[0m \u001b[0mself\u001b[0m\u001b[0;34m.\u001b[0m\u001b[0msession\u001b[0m\u001b[0;34m.\u001b[0m\u001b[0mrecv\u001b[0m\u001b[0;34m(\u001b[0m\u001b[0mself\u001b[0m\u001b[0;34m.\u001b[0m\u001b[0mstdin_socket\u001b[0m\u001b[0;34m,\u001b[0m \u001b[0;36m0\u001b[0m\u001b[0;34m)\u001b[0m\u001b[0;34m\u001b[0m\u001b[0;34m\u001b[0m\u001b[0m\n\u001b[0m\u001b[1;32m    730\u001b[0m             \u001b[0;32mexcept\u001b[0m \u001b[0mException\u001b[0m\u001b[0;34m:\u001b[0m\u001b[0;34m\u001b[0m\u001b[0;34m\u001b[0m\u001b[0m\n",
            "\u001b[0;32m/usr/local/lib/python3.7/dist-packages/jupyter_client/session.py\u001b[0m in \u001b[0;36mrecv\u001b[0;34m(self, socket, mode, content, copy)\u001b[0m\n\u001b[1;32m    802\u001b[0m         \u001b[0;32mtry\u001b[0m\u001b[0;34m:\u001b[0m\u001b[0;34m\u001b[0m\u001b[0;34m\u001b[0m\u001b[0m\n\u001b[0;32m--> 803\u001b[0;31m             \u001b[0mmsg_list\u001b[0m \u001b[0;34m=\u001b[0m \u001b[0msocket\u001b[0m\u001b[0;34m.\u001b[0m\u001b[0mrecv_multipart\u001b[0m\u001b[0;34m(\u001b[0m\u001b[0mmode\u001b[0m\u001b[0;34m,\u001b[0m \u001b[0mcopy\u001b[0m\u001b[0;34m=\u001b[0m\u001b[0mcopy\u001b[0m\u001b[0;34m)\u001b[0m\u001b[0;34m\u001b[0m\u001b[0;34m\u001b[0m\u001b[0m\n\u001b[0m\u001b[1;32m    804\u001b[0m         \u001b[0;32mexcept\u001b[0m \u001b[0mzmq\u001b[0m\u001b[0;34m.\u001b[0m\u001b[0mZMQError\u001b[0m \u001b[0;32mas\u001b[0m \u001b[0me\u001b[0m\u001b[0;34m:\u001b[0m\u001b[0;34m\u001b[0m\u001b[0;34m\u001b[0m\u001b[0m\n",
            "\u001b[0;32m/usr/local/lib/python3.7/dist-packages/zmq/sugar/socket.py\u001b[0m in \u001b[0;36mrecv_multipart\u001b[0;34m(self, flags, copy, track)\u001b[0m\n\u001b[1;32m    582\u001b[0m         \"\"\"\n\u001b[0;32m--> 583\u001b[0;31m         \u001b[0mparts\u001b[0m \u001b[0;34m=\u001b[0m \u001b[0;34m[\u001b[0m\u001b[0mself\u001b[0m\u001b[0;34m.\u001b[0m\u001b[0mrecv\u001b[0m\u001b[0;34m(\u001b[0m\u001b[0mflags\u001b[0m\u001b[0;34m,\u001b[0m \u001b[0mcopy\u001b[0m\u001b[0;34m=\u001b[0m\u001b[0mcopy\u001b[0m\u001b[0;34m,\u001b[0m \u001b[0mtrack\u001b[0m\u001b[0;34m=\u001b[0m\u001b[0mtrack\u001b[0m\u001b[0;34m)\u001b[0m\u001b[0;34m]\u001b[0m\u001b[0;34m\u001b[0m\u001b[0;34m\u001b[0m\u001b[0m\n\u001b[0m\u001b[1;32m    584\u001b[0m         \u001b[0;31m# have first part already, only loop while more to receive\u001b[0m\u001b[0;34m\u001b[0m\u001b[0;34m\u001b[0m\u001b[0;34m\u001b[0m\u001b[0m\n",
            "\u001b[0;32mzmq/backend/cython/socket.pyx\u001b[0m in \u001b[0;36mzmq.backend.cython.socket.Socket.recv\u001b[0;34m()\u001b[0m\n",
            "\u001b[0;32mzmq/backend/cython/socket.pyx\u001b[0m in \u001b[0;36mzmq.backend.cython.socket.Socket.recv\u001b[0;34m()\u001b[0m\n",
            "\u001b[0;32mzmq/backend/cython/socket.pyx\u001b[0m in \u001b[0;36mzmq.backend.cython.socket._recv_copy\u001b[0;34m()\u001b[0m\n",
            "\u001b[0;32m/usr/local/lib/python3.7/dist-packages/zmq/backend/cython/checkrc.pxd\u001b[0m in \u001b[0;36mzmq.backend.cython.checkrc._check_rc\u001b[0;34m()\u001b[0m\n",
            "\u001b[0;31mKeyboardInterrupt\u001b[0m: ",
            "\nDuring handling of the above exception, another exception occurred:\n",
            "\u001b[0;31mKeyboardInterrupt\u001b[0m                         Traceback (most recent call last)",
            "\u001b[0;32m<ipython-input-46-099e3f07dbce>\u001b[0m in \u001b[0;36m<module>\u001b[0;34m()\u001b[0m\n\u001b[1;32m      1\u001b[0m \u001b[0;31m#USER INPUT\u001b[0m\u001b[0;34m\u001b[0m\u001b[0;34m\u001b[0m\u001b[0;34m\u001b[0m\u001b[0m\n\u001b[1;32m      2\u001b[0m \u001b[0;31m#create a variable and let it equal to the input\u001b[0m\u001b[0;34m\u001b[0m\u001b[0;34m\u001b[0m\u001b[0;34m\u001b[0m\u001b[0m\n\u001b[0;32m----> 3\u001b[0;31m \u001b[0mmessage\u001b[0m \u001b[0;34m=\u001b[0m \u001b[0minput\u001b[0m\u001b[0;34m(\u001b[0m\u001b[0;34m\"Please enter your name\"\u001b[0m\u001b[0;34m)\u001b[0m\u001b[0;34m\u001b[0m\u001b[0;34m\u001b[0m\u001b[0m\n\u001b[0m\u001b[1;32m      4\u001b[0m \u001b[0mprint\u001b[0m\u001b[0;34m(\u001b[0m\u001b[0mmessage\u001b[0m\u001b[0;34m)\u001b[0m\u001b[0;34m\u001b[0m\u001b[0;34m\u001b[0m\u001b[0m\n",
            "\u001b[0;32m/usr/local/lib/python3.7/dist-packages/ipykernel/kernelbase.py\u001b[0m in \u001b[0;36mraw_input\u001b[0;34m(self, prompt)\u001b[0m\n\u001b[1;32m    702\u001b[0m             \u001b[0mself\u001b[0m\u001b[0;34m.\u001b[0m\u001b[0m_parent_ident\u001b[0m\u001b[0;34m,\u001b[0m\u001b[0;34m\u001b[0m\u001b[0;34m\u001b[0m\u001b[0m\n\u001b[1;32m    703\u001b[0m             \u001b[0mself\u001b[0m\u001b[0;34m.\u001b[0m\u001b[0m_parent_header\u001b[0m\u001b[0;34m,\u001b[0m\u001b[0;34m\u001b[0m\u001b[0;34m\u001b[0m\u001b[0m\n\u001b[0;32m--> 704\u001b[0;31m             \u001b[0mpassword\u001b[0m\u001b[0;34m=\u001b[0m\u001b[0;32mFalse\u001b[0m\u001b[0;34m,\u001b[0m\u001b[0;34m\u001b[0m\u001b[0;34m\u001b[0m\u001b[0m\n\u001b[0m\u001b[1;32m    705\u001b[0m         )\n\u001b[1;32m    706\u001b[0m \u001b[0;34m\u001b[0m\u001b[0m\n",
            "\u001b[0;32m/usr/local/lib/python3.7/dist-packages/ipykernel/kernelbase.py\u001b[0m in \u001b[0;36m_input_request\u001b[0;34m(self, prompt, ident, parent, password)\u001b[0m\n\u001b[1;32m    732\u001b[0m             \u001b[0;32mexcept\u001b[0m \u001b[0mKeyboardInterrupt\u001b[0m\u001b[0;34m:\u001b[0m\u001b[0;34m\u001b[0m\u001b[0;34m\u001b[0m\u001b[0m\n\u001b[1;32m    733\u001b[0m                 \u001b[0;31m# re-raise KeyboardInterrupt, to truncate traceback\u001b[0m\u001b[0;34m\u001b[0m\u001b[0;34m\u001b[0m\u001b[0;34m\u001b[0m\u001b[0m\n\u001b[0;32m--> 734\u001b[0;31m                 \u001b[0;32mraise\u001b[0m \u001b[0mKeyboardInterrupt\u001b[0m\u001b[0;34m\u001b[0m\u001b[0;34m\u001b[0m\u001b[0m\n\u001b[0m\u001b[1;32m    735\u001b[0m             \u001b[0;32melse\u001b[0m\u001b[0;34m:\u001b[0m\u001b[0;34m\u001b[0m\u001b[0;34m\u001b[0m\u001b[0m\n\u001b[1;32m    736\u001b[0m                 \u001b[0;32mbreak\u001b[0m\u001b[0;34m\u001b[0m\u001b[0;34m\u001b[0m\u001b[0m\n",
            "\u001b[0;31mKeyboardInterrupt\u001b[0m: "
          ]
        }
      ]
    },
    {
      "cell_type": "code",
      "metadata": {
        "colab": {
          "base_uri": "https://localhost:8080/"
        },
        "id": "L5eDtGkv0KpK",
        "outputId": "a68a59ca-8640-4b95-cf00-fac129aec02e"
      },
      "source": [
        "#A while loop can be broken by a users input\n",
        "prompt = \"Input a message. I will repeat it until yu type 'quit'\"\n",
        "message = \"\"\n",
        "\n",
        "while message != 'quit': \n",
        "    message = input(prompt)\n",
        "    print(message)"
      ],
      "execution_count": null,
      "outputs": [
        {
          "output_type": "stream",
          "text": [
            "Input a message. I will repeat it until yu type 'quit'quit\n",
            "quit\n"
          ],
          "name": "stdout"
        }
      ]
    },
    {
      "cell_type": "code",
      "metadata": {
        "colab": {
          "base_uri": "https://localhost:8080/",
          "height": 647
        },
        "id": "18eJCcZC1R0H",
        "outputId": "8bf275c4-16c8-4677-8203-4d48b3cd0406"
      },
      "source": [
        "#if you want to stop the while loop without user input, can create\n",
        "#a flag to signal Python to break the loop\n",
        "prompt = \"Input a message. I will repeat it until you type 'quit'\"\n",
        "message = \"\"\n",
        "\n",
        "active = True \n",
        "while active: \n",
        "    message = input(prompt)\n",
        "\n",
        "    if message == 'quit': \n",
        "        active = False \n",
        "    \n",
        "    else: \n",
        "        print(message)"
      ],
      "execution_count": null,
      "outputs": [
        {
          "output_type": "error",
          "ename": "KeyboardInterrupt",
          "evalue": "ignored",
          "traceback": [
            "\u001b[0;31m---------------------------------------------------------------------------\u001b[0m",
            "\u001b[0;31mKeyboardInterrupt\u001b[0m                         Traceback (most recent call last)",
            "\u001b[0;32m/usr/local/lib/python3.7/dist-packages/ipykernel/kernelbase.py\u001b[0m in \u001b[0;36m_input_request\u001b[0;34m(self, prompt, ident, parent, password)\u001b[0m\n\u001b[1;32m    728\u001b[0m             \u001b[0;32mtry\u001b[0m\u001b[0;34m:\u001b[0m\u001b[0;34m\u001b[0m\u001b[0;34m\u001b[0m\u001b[0m\n\u001b[0;32m--> 729\u001b[0;31m                 \u001b[0mident\u001b[0m\u001b[0;34m,\u001b[0m \u001b[0mreply\u001b[0m \u001b[0;34m=\u001b[0m \u001b[0mself\u001b[0m\u001b[0;34m.\u001b[0m\u001b[0msession\u001b[0m\u001b[0;34m.\u001b[0m\u001b[0mrecv\u001b[0m\u001b[0;34m(\u001b[0m\u001b[0mself\u001b[0m\u001b[0;34m.\u001b[0m\u001b[0mstdin_socket\u001b[0m\u001b[0;34m,\u001b[0m \u001b[0;36m0\u001b[0m\u001b[0;34m)\u001b[0m\u001b[0;34m\u001b[0m\u001b[0;34m\u001b[0m\u001b[0m\n\u001b[0m\u001b[1;32m    730\u001b[0m             \u001b[0;32mexcept\u001b[0m \u001b[0mException\u001b[0m\u001b[0;34m:\u001b[0m\u001b[0;34m\u001b[0m\u001b[0;34m\u001b[0m\u001b[0m\n",
            "\u001b[0;32m/usr/local/lib/python3.7/dist-packages/jupyter_client/session.py\u001b[0m in \u001b[0;36mrecv\u001b[0;34m(self, socket, mode, content, copy)\u001b[0m\n\u001b[1;32m    802\u001b[0m         \u001b[0;32mtry\u001b[0m\u001b[0;34m:\u001b[0m\u001b[0;34m\u001b[0m\u001b[0;34m\u001b[0m\u001b[0m\n\u001b[0;32m--> 803\u001b[0;31m             \u001b[0mmsg_list\u001b[0m \u001b[0;34m=\u001b[0m \u001b[0msocket\u001b[0m\u001b[0;34m.\u001b[0m\u001b[0mrecv_multipart\u001b[0m\u001b[0;34m(\u001b[0m\u001b[0mmode\u001b[0m\u001b[0;34m,\u001b[0m \u001b[0mcopy\u001b[0m\u001b[0;34m=\u001b[0m\u001b[0mcopy\u001b[0m\u001b[0;34m)\u001b[0m\u001b[0;34m\u001b[0m\u001b[0;34m\u001b[0m\u001b[0m\n\u001b[0m\u001b[1;32m    804\u001b[0m         \u001b[0;32mexcept\u001b[0m \u001b[0mzmq\u001b[0m\u001b[0;34m.\u001b[0m\u001b[0mZMQError\u001b[0m \u001b[0;32mas\u001b[0m \u001b[0me\u001b[0m\u001b[0;34m:\u001b[0m\u001b[0;34m\u001b[0m\u001b[0;34m\u001b[0m\u001b[0m\n",
            "\u001b[0;32m/usr/local/lib/python3.7/dist-packages/zmq/sugar/socket.py\u001b[0m in \u001b[0;36mrecv_multipart\u001b[0;34m(self, flags, copy, track)\u001b[0m\n\u001b[1;32m    582\u001b[0m         \"\"\"\n\u001b[0;32m--> 583\u001b[0;31m         \u001b[0mparts\u001b[0m \u001b[0;34m=\u001b[0m \u001b[0;34m[\u001b[0m\u001b[0mself\u001b[0m\u001b[0;34m.\u001b[0m\u001b[0mrecv\u001b[0m\u001b[0;34m(\u001b[0m\u001b[0mflags\u001b[0m\u001b[0;34m,\u001b[0m \u001b[0mcopy\u001b[0m\u001b[0;34m=\u001b[0m\u001b[0mcopy\u001b[0m\u001b[0;34m,\u001b[0m \u001b[0mtrack\u001b[0m\u001b[0;34m=\u001b[0m\u001b[0mtrack\u001b[0m\u001b[0;34m)\u001b[0m\u001b[0;34m]\u001b[0m\u001b[0;34m\u001b[0m\u001b[0;34m\u001b[0m\u001b[0m\n\u001b[0m\u001b[1;32m    584\u001b[0m         \u001b[0;31m# have first part already, only loop while more to receive\u001b[0m\u001b[0;34m\u001b[0m\u001b[0;34m\u001b[0m\u001b[0;34m\u001b[0m\u001b[0m\n",
            "\u001b[0;32mzmq/backend/cython/socket.pyx\u001b[0m in \u001b[0;36mzmq.backend.cython.socket.Socket.recv\u001b[0;34m()\u001b[0m\n",
            "\u001b[0;32mzmq/backend/cython/socket.pyx\u001b[0m in \u001b[0;36mzmq.backend.cython.socket.Socket.recv\u001b[0;34m()\u001b[0m\n",
            "\u001b[0;32mzmq/backend/cython/socket.pyx\u001b[0m in \u001b[0;36mzmq.backend.cython.socket._recv_copy\u001b[0;34m()\u001b[0m\n",
            "\u001b[0;32m/usr/local/lib/python3.7/dist-packages/zmq/backend/cython/checkrc.pxd\u001b[0m in \u001b[0;36mzmq.backend.cython.checkrc._check_rc\u001b[0;34m()\u001b[0m\n",
            "\u001b[0;31mKeyboardInterrupt\u001b[0m: ",
            "\nDuring handling of the above exception, another exception occurred:\n",
            "\u001b[0;31mKeyboardInterrupt\u001b[0m                         Traceback (most recent call last)",
            "\u001b[0;32m<ipython-input-56-987f3df91e5c>\u001b[0m in \u001b[0;36m<module>\u001b[0;34m()\u001b[0m\n\u001b[1;32m      6\u001b[0m \u001b[0mactive\u001b[0m \u001b[0;34m=\u001b[0m \u001b[0;32mTrue\u001b[0m\u001b[0;34m\u001b[0m\u001b[0;34m\u001b[0m\u001b[0m\n\u001b[1;32m      7\u001b[0m \u001b[0;32mwhile\u001b[0m \u001b[0mactive\u001b[0m\u001b[0;34m:\u001b[0m\u001b[0;34m\u001b[0m\u001b[0;34m\u001b[0m\u001b[0m\n\u001b[0;32m----> 8\u001b[0;31m     \u001b[0mmessage\u001b[0m \u001b[0;34m=\u001b[0m \u001b[0minput\u001b[0m\u001b[0;34m(\u001b[0m\u001b[0mprompt\u001b[0m\u001b[0;34m)\u001b[0m\u001b[0;34m\u001b[0m\u001b[0;34m\u001b[0m\u001b[0m\n\u001b[0m\u001b[1;32m      9\u001b[0m \u001b[0;34m\u001b[0m\u001b[0m\n\u001b[1;32m     10\u001b[0m     \u001b[0;32mif\u001b[0m \u001b[0mmessage\u001b[0m \u001b[0;34m==\u001b[0m \u001b[0;34m'quit'\u001b[0m\u001b[0;34m:\u001b[0m\u001b[0;34m\u001b[0m\u001b[0;34m\u001b[0m\u001b[0m\n",
            "\u001b[0;32m/usr/local/lib/python3.7/dist-packages/ipykernel/kernelbase.py\u001b[0m in \u001b[0;36mraw_input\u001b[0;34m(self, prompt)\u001b[0m\n\u001b[1;32m    702\u001b[0m             \u001b[0mself\u001b[0m\u001b[0;34m.\u001b[0m\u001b[0m_parent_ident\u001b[0m\u001b[0;34m,\u001b[0m\u001b[0;34m\u001b[0m\u001b[0;34m\u001b[0m\u001b[0m\n\u001b[1;32m    703\u001b[0m             \u001b[0mself\u001b[0m\u001b[0;34m.\u001b[0m\u001b[0m_parent_header\u001b[0m\u001b[0;34m,\u001b[0m\u001b[0;34m\u001b[0m\u001b[0;34m\u001b[0m\u001b[0m\n\u001b[0;32m--> 704\u001b[0;31m             \u001b[0mpassword\u001b[0m\u001b[0;34m=\u001b[0m\u001b[0;32mFalse\u001b[0m\u001b[0;34m,\u001b[0m\u001b[0;34m\u001b[0m\u001b[0;34m\u001b[0m\u001b[0m\n\u001b[0m\u001b[1;32m    705\u001b[0m         )\n\u001b[1;32m    706\u001b[0m \u001b[0;34m\u001b[0m\u001b[0m\n",
            "\u001b[0;32m/usr/local/lib/python3.7/dist-packages/ipykernel/kernelbase.py\u001b[0m in \u001b[0;36m_input_request\u001b[0;34m(self, prompt, ident, parent, password)\u001b[0m\n\u001b[1;32m    732\u001b[0m             \u001b[0;32mexcept\u001b[0m \u001b[0mKeyboardInterrupt\u001b[0m\u001b[0;34m:\u001b[0m\u001b[0;34m\u001b[0m\u001b[0;34m\u001b[0m\u001b[0m\n\u001b[1;32m    733\u001b[0m                 \u001b[0;31m# re-raise KeyboardInterrupt, to truncate traceback\u001b[0m\u001b[0;34m\u001b[0m\u001b[0;34m\u001b[0m\u001b[0;34m\u001b[0m\u001b[0m\n\u001b[0;32m--> 734\u001b[0;31m                 \u001b[0;32mraise\u001b[0m \u001b[0mKeyboardInterrupt\u001b[0m\u001b[0;34m\u001b[0m\u001b[0;34m\u001b[0m\u001b[0m\n\u001b[0m\u001b[1;32m    735\u001b[0m             \u001b[0;32melse\u001b[0m\u001b[0;34m:\u001b[0m\u001b[0;34m\u001b[0m\u001b[0;34m\u001b[0m\u001b[0m\n\u001b[1;32m    736\u001b[0m                 \u001b[0;32mbreak\u001b[0m\u001b[0;34m\u001b[0m\u001b[0;34m\u001b[0m\u001b[0m\n",
            "\u001b[0;31mKeyboardInterrupt\u001b[0m: "
          ]
        }
      ]
    },
    {
      "cell_type": "code",
      "metadata": {
        "id": "Bh9TtY1_-qER"
      },
      "source": [
        "#UNIT 2 - DATA ANALYTICS IN PYTHON: FUNCTIONS\n",
        "#function is a way to easily retrieve data without keep writing it\n",
        "#API, SDK - software function encapment or something \n",
        "#function a routine we use in our program so we can write it once, \n",
        "#and call that routine when we need to \n",
        "  #DECLARE A FUNCTION AND CALL A FUNCTION "
      ],
      "execution_count": null,
      "outputs": []
    },
    {
      "cell_type": "code",
      "metadata": {
        "colab": {
          "base_uri": "https://localhost:8080/"
        },
        "id": "P-gIWcd8Bt9_",
        "outputId": "e99265d9-a5cd-4d58-d1c8-6e2de9a3c8b1"
      },
      "source": [
        "#SIMPLE FUNCTION \n",
        "def greeting():\n",
        "    \"\"\"This function displays a greeting\"\"\" #\"\"\" makes a doc string\n",
        "    print(\"hello there!\")\n",
        "\n",
        "greeting()\n",
        "\n",
        "#docstring lets you and other users to know what the functions\n",
        "#purpose is."
      ],
      "execution_count": null,
      "outputs": [
        {
          "output_type": "stream",
          "text": [
            "hello there!\n"
          ],
          "name": "stdout"
        }
      ]
    },
    {
      "cell_type": "code",
      "metadata": {
        "colab": {
          "base_uri": "https://localhost:8080/"
        },
        "id": "GWmtCbAyCONj",
        "outputId": "b2e69ed8-3de0-45d4-b801-c131e24c468a"
      },
      "source": [
        "#MODIFIED FUNCTION \n",
        "def greeting(name):\n",
        "    \"\"\"This function displays a greeting\"\"\" #\"\"\" makes a doc string\n",
        "    print(\"Hello there, \" + name + \"!\")\n",
        "\n",
        "greeting('Haley')\n",
        "\n",
        "#adding name to greeting(name) tells Python to accept a value \n",
        "#for 'name'. "
      ],
      "execution_count": null,
      "outputs": [
        {
          "output_type": "stream",
          "text": [
            "Hello there, Haley!\n"
          ],
          "name": "stdout"
        }
      ]
    },
    {
      "cell_type": "code",
      "metadata": {
        "colab": {
          "base_uri": "https://localhost:8080/",
          "height": 266
        },
        "id": "tbVHfAPCCltn",
        "outputId": "b1aa098c-4b05-4906-c433-8ea8d67fc9b7"
      },
      "source": [
        "#PRACTICE MYSELF 5-10MINS (L2_Unit 7 SLIDE 7 )\n",
        "#create function that takes in value age and print info \n",
        "#ERROR\n",
        "\n",
        "def function(age):\n",
        "    \"\"\"This function takes in age and print that info\"\"\"\n",
        "age = 20\n",
        "text=\"My name is Petvy, and I am \" + age + \"years old!\"\n",
        "print(text.format(age))\n",
        "\n",
        "function(age)"
      ],
      "execution_count": null,
      "outputs": [
        {
          "output_type": "error",
          "ename": "TypeError",
          "evalue": "ignored",
          "traceback": [
            "\u001b[0;31m---------------------------------------------------------------------------\u001b[0m",
            "\u001b[0;31mTypeError\u001b[0m                                 Traceback (most recent call last)",
            "\u001b[0;32m<ipython-input-67-de1b192629d7>\u001b[0m in \u001b[0;36m<module>\u001b[0;34m()\u001b[0m\n\u001b[1;32m      5\u001b[0m     \u001b[0;34m\"\"\"This function takes in age and print that info\"\"\"\u001b[0m\u001b[0;34m\u001b[0m\u001b[0;34m\u001b[0m\u001b[0m\n\u001b[1;32m      6\u001b[0m \u001b[0mage\u001b[0m \u001b[0;34m=\u001b[0m \u001b[0;36m20\u001b[0m\u001b[0;34m\u001b[0m\u001b[0;34m\u001b[0m\u001b[0m\n\u001b[0;32m----> 7\u001b[0;31m \u001b[0mtext\u001b[0m\u001b[0;34m=\u001b[0m\u001b[0;34m\"My name is Petvy, and I am \"\u001b[0m \u001b[0;34m+\u001b[0m \u001b[0mage\u001b[0m \u001b[0;34m+\u001b[0m \u001b[0;34m\"years old!\"\u001b[0m\u001b[0;34m\u001b[0m\u001b[0;34m\u001b[0m\u001b[0m\n\u001b[0m\u001b[1;32m      8\u001b[0m \u001b[0mprint\u001b[0m\u001b[0;34m(\u001b[0m\u001b[0mtext\u001b[0m\u001b[0;34m.\u001b[0m\u001b[0mformat\u001b[0m\u001b[0;34m(\u001b[0m\u001b[0mage\u001b[0m\u001b[0;34m)\u001b[0m\u001b[0;34m)\u001b[0m\u001b[0;34m\u001b[0m\u001b[0;34m\u001b[0m\u001b[0m\n\u001b[1;32m      9\u001b[0m \u001b[0;34m\u001b[0m\u001b[0m\n",
            "\u001b[0;31mTypeError\u001b[0m: can only concatenate str (not \"int\") to str"
          ]
        }
      ]
    },
    {
      "cell_type": "code",
      "metadata": {
        "colab": {
          "base_uri": "https://localhost:8080/"
        },
        "id": "MZ_WkD1xDfaX",
        "outputId": "cb190692-7b19-487c-ef89-30211648b370"
      },
      "source": [
        "##REDO PRACTICE MYSELF (L2_Unit 7 SLIDE 7)\n",
        "def my_function(age):\n",
        "  \"\"\"This function add up name and age\"\"\"\n",
        "text = \"My name is Petvy, and I am {} years old\"\n",
        "print(text.format(age))\n",
        "\n",
        "age = 20\n",
        "my_function(age)"
      ],
      "execution_count": null,
      "outputs": [
        {
          "output_type": "stream",
          "text": [
            "My name is Petvy, and I am 20 years old\n"
          ],
          "name": "stdout"
        }
      ]
    },
    {
      "cell_type": "code",
      "metadata": {
        "colab": {
          "base_uri": "https://localhost:8080/"
        },
        "id": "sry1dh7SD7sw",
        "outputId": "dc70d9af-028b-4c8f-d56f-cf2a4396418a"
      },
      "source": [
        "#aside of function just reminder we can format the output \n",
        "price = 49 \n",
        "txt = \"The price is {:.2f} dollars\"\n",
        "print(txt.format(price))\n",
        "\n",
        "#KEYWORD: :.2f"
      ],
      "execution_count": null,
      "outputs": [
        {
          "output_type": "stream",
          "text": [
            "The price is 49.00 dollars\n"
          ],
          "name": "stdout"
        }
      ]
    },
    {
      "cell_type": "code",
      "metadata": {
        "colab": {
          "base_uri": "https://localhost:8080/"
        },
        "id": "bYKbpJ-SEHIo",
        "outputId": "f8222759-54e4-48c6-eca5-038c89b69e0e"
      },
      "source": [
        "#TRY MYSELF \n",
        "calories = 77\n",
        "txt = \"The calorie of this cupcake is {:.2f} kJ\"\n",
        "print(txt.format(calories))"
      ],
      "execution_count": null,
      "outputs": [
        {
          "output_type": "stream",
          "text": [
            "The calorie of this cupcake is 77.00 kJ\n"
          ],
          "name": "stdout"
        }
      ]
    },
    {
      "cell_type": "code",
      "metadata": {
        "colab": {
          "base_uri": "https://localhost:8080/"
        },
        "id": "erOpLbOpEYSr",
        "outputId": "f2913007-c439-4bba-c3b7-02ae397f9f35"
      },
      "source": [
        "#POSITIONAL ARGUMENTS \n",
        "#when a function is called, Python matches each argument\n",
        "#in a function with a parameters in the definition. \n",
        "\n",
        "def greeting_2(first_name, last_name): \n",
        "    \"\"\"Greets someone by first and last name\"\"\"\n",
        "    print(\"Hello there, \" + first_name + \" \" + last_name)\n",
        "  \n",
        "greeting_2('Paul', 'John')"
      ],
      "execution_count": null,
      "outputs": [
        {
          "output_type": "stream",
          "text": [
            "Hello there, Paul John\n"
          ],
          "name": "stdout"
        }
      ]
    },
    {
      "cell_type": "code",
      "metadata": {
        "colab": {
          "base_uri": "https://localhost:8080/"
        },
        "id": "DfOE0Y0JEtD8",
        "outputId": "669cb80a-53b4-43a4-bf08-b04e17dbd98d"
      },
      "source": [
        "def greeting_2(first_name, last_name, age): \n",
        "    \"\"\"Greets someone by first and last name\"\"\"\n",
        "    print(\"Hello there, \" + first_name + \" \" + last_name)\n",
        "    print(\"I am \" + str(age) + \", years old\")\n",
        "\n",
        "greeting_2('Paul', 'John', 43)\n",
        "\n",
        "#for age, have to make it a string"
      ],
      "execution_count": null,
      "outputs": [
        {
          "output_type": "stream",
          "text": [
            "Hello there, Paul John\n",
            "I am 43, years old\n"
          ],
          "name": "stdout"
        }
      ]
    },
    {
      "cell_type": "code",
      "metadata": {
        "colab": {
          "base_uri": "https://localhost:8080/"
        },
        "id": "N9c0ZJzzFb2c",
        "outputId": "7dfe0c91-b2c5-4755-88ac-4353dce1d039"
      },
      "source": [
        "#MULTIPLE FUNCTION CALLS \n",
        "\n",
        "def greeting_2(first_name, last_name, age): \n",
        "    \"\"\"Greets someone by first and last name\"\"\"\n",
        "    print(\"Hello there, \" + first_name + \" \" + last_name)\n",
        "    print(\"I am \" + str(age) + \", years old\")\n",
        "\n",
        "greeting_2('Paul', 'John', 43)\n",
        "greeting_2('Sparky', 'Jack', 76)\n",
        "\n",
        "#just keep adding in the define and the parameters\n",
        "#order matters when you define arguments \n",
        "#Python stores arguments in parameters in the order you define them"
      ],
      "execution_count": null,
      "outputs": [
        {
          "output_type": "stream",
          "text": [
            "Hello there, Paul John\n",
            "I am 43, years old\n",
            "Hello there, Sparky Jack\n",
            "I am 76, years old\n"
          ],
          "name": "stdout"
        }
      ]
    },
    {
      "cell_type": "code",
      "metadata": {
        "colab": {
          "base_uri": "https://localhost:8080/"
        },
        "id": "L4EZDspPF6rn",
        "outputId": "a17e26e3-1604-4bf6-d45c-cd1fd3e483ab"
      },
      "source": [
        "#MY TURN (L2_Unit 7 Slide 13)\n",
        "def city_4(city, country, hospital_name, department): \n",
        "    \"\"\"Gives out the city's characteristic places\"\"\"\n",
        "    print(\"I was born in \" + city + \", \"+ country + \". The hospital is called \"\n",
        "          + hospital_name + \" in the \" + department + \" department.\")\n",
        "\n",
        "city_4('New York', 'USA', 'Maimonides', 'Baby')\n",
        "city_4('New Jersey','USA', 'Hoboken Hospital', 'Baby')\n",
        "city_4('Florida','USA', 'Tampa Hospital', 'Baby')"
      ],
      "execution_count": null,
      "outputs": [
        {
          "output_type": "stream",
          "text": [
            "I was born in New York, USA. The hospital is called Maimonides in the Baby department.\n",
            "I was born in New Jersey, USA. The hospital is called Hoboken Hospital in the Baby department.\n",
            "I was born in Florida, USA. The hospital is called Tampa Hospital in the Baby department.\n"
          ],
          "name": "stdout"
        }
      ]
    }
  ]
}