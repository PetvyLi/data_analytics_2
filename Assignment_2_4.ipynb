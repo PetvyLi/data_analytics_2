{
  "nbformat": 4,
  "nbformat_minor": 0,
  "metadata": {
    "colab": {
      "name": "Assignment_2.4.ipynb",
      "provenance": [],
      "authorship_tag": "ABX9TyPIdtPO4HxksFtMUWCcjWIZ",
      "include_colab_link": true
    },
    "kernelspec": {
      "name": "python3",
      "display_name": "Python 3"
    },
    "language_info": {
      "name": "python"
    }
  },
  "cells": [
    {
      "cell_type": "markdown",
      "metadata": {
        "id": "view-in-github",
        "colab_type": "text"
      },
      "source": [
        "<a href=\"https://colab.research.google.com/github/PetvyLi/data_analytics_2/blob/main/Assignment_2_4.ipynb\" target=\"_parent\"><img src=\"https://colab.research.google.com/assets/colab-badge.svg\" alt=\"Open In Colab\"/></a>"
      ]
    },
    {
      "cell_type": "code",
      "metadata": {
        "colab": {
          "base_uri": "https://localhost:8080/"
        },
        "id": "nKedEPoHu8d5",
        "outputId": "9562f876-fe0c-4631-94ba-a1d1cbaf5d07"
      },
      "source": [
        "#Create a list that holds 5 data variables. \n",
        "animals = [\"lion\", \"tiger\", \"zebra\", \"elephant\", \"dog\"]\n",
        "\n",
        "#Print out those variables by using a for loop.\n",
        "for x in animals:\n",
        "    print(x)\n",
        "\n",
        "#Modify your for loop to add a message to your for loop.\n",
        "for x in animals:\n",
        "    print(\"This is an animal:\", x)\n",
        "\n",
        "#Use a for loop to print even numbers from 1-20.\n",
        "for number in range(2,21,2):\n",
        "    print(number)\n",
        "\n",
        "#Sort your list in alphabetic order.\n",
        "animals.sort()\n",
        "\n",
        "#Print out the first three elements of your list.\n",
        "for i in range(3):\n",
        "    print(animals[i])\n",
        "\n",
        "#Create a loop to print the last 2 elements of your list.\n",
        "for i in range(3,5):\n",
        "    print(animals[i])\n"
      ],
      "execution_count": 6,
      "outputs": [
        {
          "output_type": "stream",
          "text": [
            "lion\n",
            "tiger\n",
            "zebra\n",
            "elephant\n",
            "dog\n",
            "This is an animal: lion\n",
            "This is an animal: tiger\n",
            "This is an animal: zebra\n",
            "This is an animal: elephant\n",
            "This is an animal: dog\n",
            "2\n",
            "4\n",
            "6\n",
            "8\n",
            "10\n",
            "12\n",
            "14\n",
            "16\n",
            "18\n",
            "20\n",
            "dog\n",
            "elephant\n",
            "lion\n",
            "tiger\n",
            "zebra\n"
          ],
          "name": "stdout"
        }
      ]
    }
  ]
}